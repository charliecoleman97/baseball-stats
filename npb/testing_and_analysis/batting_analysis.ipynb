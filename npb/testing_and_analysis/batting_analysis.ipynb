{
 "cells": [
  {
   "cell_type": "markdown",
   "metadata": {},
   "source": [
    "## Batting Analysis Notebook\n",
    "\n",
    "Notebook for analysing different stats "
   ]
  },
  {
   "cell_type": "code",
   "execution_count": 26,
   "metadata": {},
   "outputs": [],
   "source": [
    "import pandas as pd\n",
    "import os\n",
    "import sys\n",
    "import glob\n",
    "import plotly.express as px\n",
    "\n",
    "module_path = os.path.abspath(os.path.join('..'))\n",
    "if module_path not in sys.path:\n",
    "    sys.path.append(module_path)\n",
    "\n",
    "pd.options.display.max_columns = None\n",
    "pd.options.display.max_rows = 10"
   ]
  },
  {
   "cell_type": "markdown",
   "metadata": {},
   "source": [
    "#### Homerun leader 2022"
   ]
  },
  {
   "cell_type": "code",
   "execution_count": 27,
   "metadata": {},
   "outputs": [
    {
     "data": {
      "text/html": [
       "<div>\n",
       "<style scoped>\n",
       "    .dataframe tbody tr th:only-of-type {\n",
       "        vertical-align: middle;\n",
       "    }\n",
       "\n",
       "    .dataframe tbody tr th {\n",
       "        vertical-align: top;\n",
       "    }\n",
       "\n",
       "    .dataframe thead th {\n",
       "        text-align: right;\n",
       "    }\n",
       "</style>\n",
       "<table border=\"1\" class=\"dataframe\">\n",
       "  <thead>\n",
       "    <tr style=\"text-align: right;\">\n",
       "      <th></th>\n",
       "      <th>player</th>\n",
       "      <th>age</th>\n",
       "      <th>G</th>\n",
       "      <th>PA</th>\n",
       "      <th>AB</th>\n",
       "      <th>R</th>\n",
       "      <th>H</th>\n",
       "      <th>2B</th>\n",
       "      <th>3B</th>\n",
       "      <th>HR</th>\n",
       "      <th>RBI</th>\n",
       "      <th>SB</th>\n",
       "      <th>CS</th>\n",
       "      <th>BB</th>\n",
       "      <th>SO</th>\n",
       "      <th>batting_avg</th>\n",
       "      <th>onbase_perc</th>\n",
       "      <th>slugging_perc</th>\n",
       "      <th>onbase_plus_slugging</th>\n",
       "      <th>TB</th>\n",
       "      <th>GIDP</th>\n",
       "      <th>HBP</th>\n",
       "      <th>SH</th>\n",
       "      <th>SF</th>\n",
       "      <th>IBB</th>\n",
       "      <th>notes</th>\n",
       "      <th>team</th>\n",
       "    </tr>\n",
       "  </thead>\n",
       "  <tbody>\n",
       "    <tr>\n",
       "      <th>108</th>\n",
       "      <td>Munetaka Murakami*</td>\n",
       "      <td>22</td>\n",
       "      <td>141</td>\n",
       "      <td>612</td>\n",
       "      <td>487</td>\n",
       "      <td>114</td>\n",
       "      <td>155</td>\n",
       "      <td>21</td>\n",
       "      <td>1</td>\n",
       "      <td>56</td>\n",
       "      <td>134</td>\n",
       "      <td>12</td>\n",
       "      <td>7</td>\n",
       "      <td>118</td>\n",
       "      <td>128</td>\n",
       "      <td>0.318</td>\n",
       "      <td>0.458</td>\n",
       "      <td>0.711</td>\n",
       "      <td>1.168</td>\n",
       "      <td>346</td>\n",
       "      <td>7</td>\n",
       "      <td>7</td>\n",
       "      <td>0</td>\n",
       "      <td>0</td>\n",
       "      <td>25</td>\n",
       "      <td>NaN</td>\n",
       "      <td>yakult_swallows</td>\n",
       "    </tr>\n",
       "    <tr>\n",
       "      <th>414</th>\n",
       "      <td>Hotaka Yamakawa</td>\n",
       "      <td>30</td>\n",
       "      <td>129</td>\n",
       "      <td>528</td>\n",
       "      <td>448</td>\n",
       "      <td>62</td>\n",
       "      <td>119</td>\n",
       "      <td>17</td>\n",
       "      <td>0</td>\n",
       "      <td>41</td>\n",
       "      <td>90</td>\n",
       "      <td>0</td>\n",
       "      <td>0</td>\n",
       "      <td>68</td>\n",
       "      <td>114</td>\n",
       "      <td>0.266</td>\n",
       "      <td>0.375</td>\n",
       "      <td>0.578</td>\n",
       "      <td>0.953</td>\n",
       "      <td>259</td>\n",
       "      <td>12</td>\n",
       "      <td>11</td>\n",
       "      <td>0</td>\n",
       "      <td>1</td>\n",
       "      <td>13</td>\n",
       "      <td>NaN</td>\n",
       "      <td>saitama_seibu_lions</td>\n",
       "    </tr>\n",
       "    <tr>\n",
       "      <th>71</th>\n",
       "      <td>Kazuma Okamoto</td>\n",
       "      <td>26</td>\n",
       "      <td>140</td>\n",
       "      <td>589</td>\n",
       "      <td>520</td>\n",
       "      <td>63</td>\n",
       "      <td>131</td>\n",
       "      <td>21</td>\n",
       "      <td>1</td>\n",
       "      <td>30</td>\n",
       "      <td>82</td>\n",
       "      <td>1</td>\n",
       "      <td>1</td>\n",
       "      <td>58</td>\n",
       "      <td>94</td>\n",
       "      <td>0.252</td>\n",
       "      <td>0.336</td>\n",
       "      <td>0.469</td>\n",
       "      <td>0.805</td>\n",
       "      <td>244</td>\n",
       "      <td>11</td>\n",
       "      <td>9</td>\n",
       "      <td>0</td>\n",
       "      <td>2</td>\n",
       "      <td>7</td>\n",
       "      <td>NaN</td>\n",
       "      <td>yomiuri_giants</td>\n",
       "    </tr>\n",
       "    <tr>\n",
       "      <th>309</th>\n",
       "      <td>Hideto Asamura</td>\n",
       "      <td>31</td>\n",
       "      <td>143</td>\n",
       "      <td>633</td>\n",
       "      <td>532</td>\n",
       "      <td>73</td>\n",
       "      <td>134</td>\n",
       "      <td>17</td>\n",
       "      <td>0</td>\n",
       "      <td>27</td>\n",
       "      <td>86</td>\n",
       "      <td>4</td>\n",
       "      <td>3</td>\n",
       "      <td>92</td>\n",
       "      <td>137</td>\n",
       "      <td>0.252</td>\n",
       "      <td>0.365</td>\n",
       "      <td>0.436</td>\n",
       "      <td>0.801</td>\n",
       "      <td>232</td>\n",
       "      <td>13</td>\n",
       "      <td>5</td>\n",
       "      <td>0</td>\n",
       "      <td>4</td>\n",
       "      <td>7</td>\n",
       "      <td>NaN</td>\n",
       "      <td>tohoku_rakuten_golden_eagles</td>\n",
       "    </tr>\n",
       "    <tr>\n",
       "      <th>61</th>\n",
       "      <td>Yoshihiro Maru*</td>\n",
       "      <td>33</td>\n",
       "      <td>143</td>\n",
       "      <td>607</td>\n",
       "      <td>525</td>\n",
       "      <td>81</td>\n",
       "      <td>143</td>\n",
       "      <td>31</td>\n",
       "      <td>1</td>\n",
       "      <td>27</td>\n",
       "      <td>65</td>\n",
       "      <td>6</td>\n",
       "      <td>7</td>\n",
       "      <td>80</td>\n",
       "      <td>88</td>\n",
       "      <td>0.272</td>\n",
       "      <td>0.370</td>\n",
       "      <td>0.490</td>\n",
       "      <td>0.859</td>\n",
       "      <td>257</td>\n",
       "      <td>8</td>\n",
       "      <td>1</td>\n",
       "      <td>1</td>\n",
       "      <td>0</td>\n",
       "      <td>1</td>\n",
       "      <td>NaN</td>\n",
       "      <td>yomiuri_giants</td>\n",
       "    </tr>\n",
       "    <tr>\n",
       "      <th>...</th>\n",
       "      <td>...</td>\n",
       "      <td>...</td>\n",
       "      <td>...</td>\n",
       "      <td>...</td>\n",
       "      <td>...</td>\n",
       "      <td>...</td>\n",
       "      <td>...</td>\n",
       "      <td>...</td>\n",
       "      <td>...</td>\n",
       "      <td>...</td>\n",
       "      <td>...</td>\n",
       "      <td>...</td>\n",
       "      <td>...</td>\n",
       "      <td>...</td>\n",
       "      <td>...</td>\n",
       "      <td>...</td>\n",
       "      <td>...</td>\n",
       "      <td>...</td>\n",
       "      <td>...</td>\n",
       "      <td>...</td>\n",
       "      <td>...</td>\n",
       "      <td>...</td>\n",
       "      <td>...</td>\n",
       "      <td>...</td>\n",
       "      <td>...</td>\n",
       "      <td>...</td>\n",
       "      <td>...</td>\n",
       "    </tr>\n",
       "    <tr>\n",
       "      <th>199</th>\n",
       "      <td>Masato Morishita</td>\n",
       "      <td>24</td>\n",
       "      <td>27</td>\n",
       "      <td>65</td>\n",
       "      <td>58</td>\n",
       "      <td>4</td>\n",
       "      <td>11</td>\n",
       "      <td>2</td>\n",
       "      <td>1</td>\n",
       "      <td>0</td>\n",
       "      <td>7</td>\n",
       "      <td>0</td>\n",
       "      <td>0</td>\n",
       "      <td>1</td>\n",
       "      <td>14</td>\n",
       "      <td>0.190</td>\n",
       "      <td>0.203</td>\n",
       "      <td>0.259</td>\n",
       "      <td>0.462</td>\n",
       "      <td>15</td>\n",
       "      <td>0</td>\n",
       "      <td>0</td>\n",
       "      <td>6</td>\n",
       "      <td>0</td>\n",
       "      <td>0</td>\n",
       "      <td>NaN</td>\n",
       "      <td>hiroshima_carp</td>\n",
       "    </tr>\n",
       "    <tr>\n",
       "      <th>198</th>\n",
       "      <td>Shohei Mori*</td>\n",
       "      <td>24</td>\n",
       "      <td>8</td>\n",
       "      <td>2</td>\n",
       "      <td>1</td>\n",
       "      <td>0</td>\n",
       "      <td>0</td>\n",
       "      <td>0</td>\n",
       "      <td>0</td>\n",
       "      <td>0</td>\n",
       "      <td>0</td>\n",
       "      <td>0</td>\n",
       "      <td>0</td>\n",
       "      <td>0</td>\n",
       "      <td>1</td>\n",
       "      <td>0.000</td>\n",
       "      <td>0.000</td>\n",
       "      <td>0.000</td>\n",
       "      <td>0.000</td>\n",
       "      <td>0</td>\n",
       "      <td>0</td>\n",
       "      <td>0</td>\n",
       "      <td>1</td>\n",
       "      <td>0</td>\n",
       "      <td>0</td>\n",
       "      <td>NaN</td>\n",
       "      <td>hiroshima_carp</td>\n",
       "    </tr>\n",
       "    <tr>\n",
       "      <th>197</th>\n",
       "      <td>Taiki Mochimaru*</td>\n",
       "      <td>20</td>\n",
       "      <td>5</td>\n",
       "      <td>6</td>\n",
       "      <td>6</td>\n",
       "      <td>0</td>\n",
       "      <td>0</td>\n",
       "      <td>0</td>\n",
       "      <td>0</td>\n",
       "      <td>0</td>\n",
       "      <td>0</td>\n",
       "      <td>0</td>\n",
       "      <td>0</td>\n",
       "      <td>0</td>\n",
       "      <td>3</td>\n",
       "      <td>0.000</td>\n",
       "      <td>0.000</td>\n",
       "      <td>0.000</td>\n",
       "      <td>0.000</td>\n",
       "      <td>0</td>\n",
       "      <td>0</td>\n",
       "      <td>0</td>\n",
       "      <td>0</td>\n",
       "      <td>0</td>\n",
       "      <td>0</td>\n",
       "      <td>NaN</td>\n",
       "      <td>hiroshima_carp</td>\n",
       "    </tr>\n",
       "    <tr>\n",
       "      <th>196</th>\n",
       "      <td>Takumi Miyoshi</td>\n",
       "      <td>29</td>\n",
       "      <td>10</td>\n",
       "      <td>2</td>\n",
       "      <td>2</td>\n",
       "      <td>0</td>\n",
       "      <td>0</td>\n",
       "      <td>0</td>\n",
       "      <td>0</td>\n",
       "      <td>0</td>\n",
       "      <td>0</td>\n",
       "      <td>0</td>\n",
       "      <td>0</td>\n",
       "      <td>0</td>\n",
       "      <td>1</td>\n",
       "      <td>0.000</td>\n",
       "      <td>0.000</td>\n",
       "      <td>0.000</td>\n",
       "      <td>0.000</td>\n",
       "      <td>0</td>\n",
       "      <td>0</td>\n",
       "      <td>0</td>\n",
       "      <td>0</td>\n",
       "      <td>0</td>\n",
       "      <td>0</td>\n",
       "      <td>NaN</td>\n",
       "      <td>hiroshima_carp</td>\n",
       "    </tr>\n",
       "    <tr>\n",
       "      <th>246</th>\n",
       "      <td>Akira Neo*</td>\n",
       "      <td>22</td>\n",
       "      <td>49</td>\n",
       "      <td>46</td>\n",
       "      <td>40</td>\n",
       "      <td>2</td>\n",
       "      <td>8</td>\n",
       "      <td>2</td>\n",
       "      <td>0</td>\n",
       "      <td>0</td>\n",
       "      <td>4</td>\n",
       "      <td>0</td>\n",
       "      <td>0</td>\n",
       "      <td>5</td>\n",
       "      <td>9</td>\n",
       "      <td>0.200</td>\n",
       "      <td>0.289</td>\n",
       "      <td>0.250</td>\n",
       "      <td>0.539</td>\n",
       "      <td>10</td>\n",
       "      <td>1</td>\n",
       "      <td>0</td>\n",
       "      <td>1</td>\n",
       "      <td>0</td>\n",
       "      <td>0</td>\n",
       "      <td>NaN</td>\n",
       "      <td>chunichi_dragons</td>\n",
       "    </tr>\n",
       "  </tbody>\n",
       "</table>\n",
       "<p>493 rows × 27 columns</p>\n",
       "</div>"
      ],
      "text/plain": [
       "                 player  age    G   PA   AB    R    H  2B  3B  HR  RBI  SB  \\\n",
       "108  Munetaka Murakami*   22  141  612  487  114  155  21   1  56  134  12   \n",
       "414     Hotaka Yamakawa   30  129  528  448   62  119  17   0  41   90   0   \n",
       "71       Kazuma Okamoto   26  140  589  520   63  131  21   1  30   82   1   \n",
       "309      Hideto Asamura   31  143  633  532   73  134  17   0  27   86   4   \n",
       "61      Yoshihiro Maru*   33  143  607  525   81  143  31   1  27   65   6   \n",
       "..                  ...  ...  ...  ...  ...  ...  ...  ..  ..  ..  ...  ..   \n",
       "199    Masato Morishita   24   27   65   58    4   11   2   1   0    7   0   \n",
       "198        Shohei Mori*   24    8    2    1    0    0   0   0   0    0   0   \n",
       "197    Taiki Mochimaru*   20    5    6    6    0    0   0   0   0    0   0   \n",
       "196      Takumi Miyoshi   29   10    2    2    0    0   0   0   0    0   0   \n",
       "246          Akira Neo*   22   49   46   40    2    8   2   0   0    4   0   \n",
       "\n",
       "     CS   BB   SO  batting_avg  onbase_perc  slugging_perc  \\\n",
       "108   7  118  128        0.318        0.458          0.711   \n",
       "414   0   68  114        0.266        0.375          0.578   \n",
       "71    1   58   94        0.252        0.336          0.469   \n",
       "309   3   92  137        0.252        0.365          0.436   \n",
       "61    7   80   88        0.272        0.370          0.490   \n",
       "..   ..  ...  ...          ...          ...            ...   \n",
       "199   0    1   14        0.190        0.203          0.259   \n",
       "198   0    0    1        0.000        0.000          0.000   \n",
       "197   0    0    3        0.000        0.000          0.000   \n",
       "196   0    0    1        0.000        0.000          0.000   \n",
       "246   0    5    9        0.200        0.289          0.250   \n",
       "\n",
       "     onbase_plus_slugging   TB  GIDP  HBP  SH  SF  IBB  notes  \\\n",
       "108                 1.168  346     7    7   0   0   25    NaN   \n",
       "414                 0.953  259    12   11   0   1   13    NaN   \n",
       "71                  0.805  244    11    9   0   2    7    NaN   \n",
       "309                 0.801  232    13    5   0   4    7    NaN   \n",
       "61                  0.859  257     8    1   1   0    1    NaN   \n",
       "..                    ...  ...   ...  ...  ..  ..  ...    ...   \n",
       "199                 0.462   15     0    0   6   0    0    NaN   \n",
       "198                 0.000    0     0    0   1   0    0    NaN   \n",
       "197                 0.000    0     0    0   0   0    0    NaN   \n",
       "196                 0.000    0     0    0   0   0    0    NaN   \n",
       "246                 0.539   10     1    0   1   0    0    NaN   \n",
       "\n",
       "                             team  \n",
       "108               yakult_swallows  \n",
       "414           saitama_seibu_lions  \n",
       "71                 yomiuri_giants  \n",
       "309  tohoku_rakuten_golden_eagles  \n",
       "61                 yomiuri_giants  \n",
       "..                            ...  \n",
       "199                hiroshima_carp  \n",
       "198                hiroshima_carp  \n",
       "197                hiroshima_carp  \n",
       "196                hiroshima_carp  \n",
       "246              chunichi_dragons  \n",
       "\n",
       "[493 rows x 27 columns]"
      ]
     },
     "execution_count": 27,
     "metadata": {},
     "output_type": "execute_result"
    }
   ],
   "source": [
    "df = pd.read_csv(\"../src/resources/npb_all_team_batting.csv\")\n",
    "df = df.sort_values(by=['HR'], ascending=False)\n",
    "df"
   ]
  },
  {
   "cell_type": "code",
   "execution_count": 28,
   "metadata": {},
   "outputs": [
    {
     "name": "stderr",
     "output_type": "stream",
     "text": [
      "/Users/charlie/opt/anaconda3/lib/python3.9/site-packages/scipy/__init__.py:146: UserWarning: A NumPy version >=1.16.5 and <1.23.0 is required for this version of SciPy (detected version 1.23.3\n",
      "  warnings.warn(f\"A NumPy version >={np_minversion} and <{np_maxversion}\"\n"
     ]
    },
    {
     "data": {
      "application/vnd.plotly.v1+json": {
       "config": {
        "plotlyServerURL": "https://plot.ly"
       },
       "data": [
        {
         "customdata": [
          [
           "yakult_swallows",
           612,
           56,
           0.318
          ],
          [
           "saitama_seibu_lions",
           528,
           41,
           0.266
          ],
          [
           "yomiuri_giants",
           589,
           30,
           0.252
          ],
          [
           "tohoku_rakuten_golden_eagles",
           633,
           27,
           0.252
          ],
          [
           "yomiuri_giants",
           607,
           27,
           0.272
          ],
          [
           "yomiuri_giants",
           484,
           24,
           0.24
          ],
          [
           "fukuoka_softbank_hawks",
           491,
           24,
           0.275
          ],
          [
           "yokohama_bay_stars",
           568,
           24,
           0.291
          ],
          [
           "yomiuri_giants",
           375,
           24,
           0.269
          ],
          [
           "hanshin_tigers",
           510,
           23,
           0.267
          ],
          [
           "yakult_swallows",
           540,
           23,
           0.243
          ],
          [
           "yomiuri_giants",
           428,
           23,
           0.271
          ],
          [
           "yokohama_bay_stars",
           574,
           22,
           0.306
          ],
          [
           "orix_buffaloes",
           508,
           21,
           0.335
          ],
          [
           "yakult_swallows",
           529,
           20,
           0.272
          ],
          [
           "hanshin_tigers",
           603,
           20,
           0.264
          ],
          [
           "hokkaido_nippon_ham_fighters",
           461,
           18,
           0.219
          ],
          [
           "hiroshima_carp",
           508,
           17,
           0.272
          ],
          [
           "yokohama_bay_stars",
           412,
           17,
           0.266
          ],
          [
           "yokohama_bay_stars",
           482,
           16,
           0.3
          ],
          [
           "hiroshima_carp",
           599,
           16,
           0.288
          ],
          [
           "chiba_lotte_marines",
           349,
           16,
           0.237
          ],
          [
           "yakult_swallows",
           567,
           16,
           0.276
          ],
          [
           "chiba_lotte_marines",
           396,
           15,
           0.189
          ],
          [
           "yakult_swallows",
           215,
           15,
           0.275
          ],
          [
           "orix_buffaloes",
           432,
           15,
           0.235
          ],
          [
           "saitama_seibu_lions",
           465,
           15,
           0.213
          ],
          [
           "tohoku_rakuten_golden_eagles",
           613,
           14,
           0.298
          ],
          [
           "hokkaido_nippon_ham_fighters",
           285,
           14,
           0.209
          ],
          [
           "chunichi_dragons",
           532,
           14,
           0.294
          ],
          [
           "hokkaido_nippon_ham_fighters",
           314,
           14,
           0.203
          ],
          [
           "fukuoka_softbank_hawks",
           331,
           14,
           0.269
          ],
          [
           "yomiuri_giants",
           393,
           13,
           0.266
          ],
          [
           "saitama_seibu_lions",
           294,
           12,
           0.196
          ],
          [
           "saitama_seibu_lions",
           547,
           12,
           0.216
          ],
          [
           "chiba_lotte_marines",
           596,
           12,
           0.257
          ],
          [
           "orix_buffaloes",
           271,
           11,
           0.227
          ],
          [
           "tohoku_rakuten_golden_eagles",
           476,
           11,
           0.271
          ],
          [
           "hokkaido_nippon_ham_fighters",
           309,
           10,
           0.227
          ],
          [
           "fukuoka_softbank_hawks",
           203,
           10,
           0.239
          ],
          [
           "hiroshima_carp",
           424,
           10,
           0.315
          ],
          [
           "fukuoka_softbank_hawks",
           437,
           9,
           0.257
          ],
          [
           "yakult_swallows",
           548,
           9,
           0.241
          ],
          [
           "chunichi_dragons",
           548,
           9,
           0.27
          ],
          [
           "saitama_seibu_lions",
           393,
           9,
           0.243
          ],
          [
           "chiba_lotte_marines",
           440,
           9,
           0.263
          ],
          [
           "chiba_lotte_marines",
           266,
           9,
           0.163
          ],
          [
           "tohoku_rakuten_golden_eagles",
           268,
           9,
           0.223
          ],
          [
           "hanshin_tigers",
           211,
           9,
           0.224
          ],
          [
           "orix_buffaloes",
           468,
           8,
           0.283
          ],
          [
           "chunichi_dragons",
           286,
           8,
           0.276
          ],
          [
           "hiroshima_carp",
           274,
           8,
           0.243
          ],
          [
           "hokkaido_nippon_ham_fighters",
           396,
           8,
           0.302
          ],
          [
           "saitama_seibu_lions",
           412,
           8,
           0.251
          ],
          [
           "chiba_lotte_marines",
           402,
           8,
           0.215
          ],
          [
           "fukuoka_softbank_hawks",
           435,
           7,
           0.253
          ],
          [
           "yomiuri_giants",
           567,
           7,
           0.277
          ],
          [
           "fukuoka_softbank_hawks",
           386,
           7,
           0.271
          ],
          [
           "tohoku_rakuten_golden_eagles",
           223,
           7,
           0.208
          ],
          [
           "tohoku_rakuten_golden_eagles",
           451,
           7,
           0.218
          ],
          [
           "chiba_lotte_marines",
           232,
           7,
           0.246
          ],
          [
           "fukuoka_softbank_hawks",
           510,
           7,
           0.296
          ],
          [
           "hiroshima_carp",
           511,
           7,
           0.266
          ],
          [
           "yakult_swallows",
           87,
           6,
           0.241
          ],
          [
           "hokkaido_nippon_ham_fighters",
           368,
           6,
           0.279
          ],
          [
           "chunichi_dragons",
           465,
           6,
           0.246
          ],
          [
           "yokohama_bay_stars",
           327,
           6,
           0.252
          ],
          [
           "yakult_swallows",
           148,
           6,
           0.206
          ],
          [
           "hiroshima_carp",
           522,
           6,
           0.262
          ],
          [
           "fukuoka_softbank_hawks",
           441,
           6,
           0.301
          ],
          [
           "chiba_lotte_marines",
           248,
           6,
           0.217
          ],
          [
           "hokkaido_nippon_ham_fighters",
           328,
           6,
           0.237
          ],
          [
           "orix_buffaloes",
           494,
           6,
           0.224
          ],
          [
           "hanshin_tigers",
           610,
           6,
           0.276
          ],
          [
           "fukuoka_softbank_hawks",
           318,
           5,
           0.267
          ],
          [
           "orix_buffaloes",
           537,
           5,
           0.271
          ],
          [
           "saitama_seibu_lions",
           301,
           5,
           0.227
          ],
          [
           "chunichi_dragons",
           141,
           5,
           0.225
          ],
          [
           "yokohama_bay_stars",
           262,
           5,
           0.205
          ],
          [
           "hiroshima_carp",
           174,
           5,
           0.265
          ],
          [
           "yakult_swallows",
           256,
           5,
           0.248
          ],
          [
           "yokohama_bay_stars",
           153,
           5,
           0.278
          ],
          [
           "chiba_lotte_marines",
           373,
           5,
           0.31
          ],
          [
           "yakult_swallows",
           307,
           5,
           0.263
          ],
          [
           "hokkaido_nippon_ham_fighters",
           237,
           5,
           0.256
          ],
          [
           "yomiuri_giants",
           156,
           5,
           0.25
          ],
          [
           "tohoku_rakuten_golden_eagles",
           477,
           5,
           0.257
          ],
          [
           "yomiuri_giants",
           352,
           5,
           0.286
          ],
          [
           "yokohama_bay_stars",
           529,
           4,
           0.257
          ],
          [
           "hokkaido_nippon_ham_fighters",
           240,
           4,
           0.232
          ],
          [
           "hanshin_tigers",
           331,
           4,
           0.228
          ],
          [
           "chunichi_dragons",
           195,
           4,
           0.206
          ],
          [
           "orix_buffaloes",
           193,
           4,
           0.281
          ],
          [
           "tohoku_rakuten_golden_eagles",
           288,
           4,
           0.237
          ],
          [
           "orix_buffaloes",
           212,
           4,
           0.225
          ],
          [
           "yokohama_bay_stars",
           151,
           4,
           0.264
          ],
          [
           "hokkaido_nippon_ham_fighters",
           180,
           4,
           0.174
          ],
          [
           "yakult_swallows",
           197,
           4,
           0.232
          ],
          [
           "tohoku_rakuten_golden_eagles",
           218,
           3,
           0.203
          ],
          [
           "hanshin_tigers",
           495,
           3,
           0.247
          ],
          [
           "fukuoka_softbank_hawks",
           70,
           3,
           0.159
          ],
          [
           "yokohama_bay_stars",
           181,
           3,
           0.247
          ],
          [
           "hiroshima_carp",
           137,
           3,
           0.24
          ],
          [
           "orix_buffaloes",
           235,
           3,
           0.229
          ],
          [
           "chiba_lotte_marines",
           608,
           3,
           0.274
          ],
          [
           "hiroshima_carp",
           126,
           3,
           0.237
          ],
          [
           "hanshin_tigers",
           182,
           3,
           0.227
          ],
          [
           "hokkaido_nippon_ham_fighters",
           445,
           3,
           0.347
          ],
          [
           "fukuoka_softbank_hawks",
           36,
           3,
           0.273
          ],
          [
           "chunichi_dragons",
           143,
           3,
           0.172
          ],
          [
           "tohoku_rakuten_golden_eagles",
           199,
           3,
           0.214
          ],
          [
           "hiroshima_carp",
           134,
           3,
           0.211
          ],
          [
           "saitama_seibu_lions",
           267,
           3,
           0.264
          ],
          [
           "hanshin_tigers",
           580,
           3,
           0.293
          ],
          [
           "chunichi_dragons",
           74,
           3,
           0.162
          ],
          [
           "hiroshima_carp",
           325,
           3,
           0.207
          ],
          [
           "fukuoka_softbank_hawks",
           80,
           3,
           0.254
          ],
          [
           "tohoku_rakuten_golden_eagles",
           182,
           3,
           0.214
          ],
          [
           "orix_buffaloes",
           118,
           2,
           0.224
          ],
          [
           "saitama_seibu_lions",
           159,
           2,
           0.259
          ],
          [
           "chunichi_dragons",
           290,
           2,
           0.249
          ],
          [
           "saitama_seibu_lions",
           456,
           2,
           0.266
          ],
          [
           "saitama_seibu_lions",
           83,
           2,
           0.206
          ],
          [
           "yokohama_bay_stars",
           168,
           2,
           0.234
          ],
          [
           "hiroshima_carp",
           166,
           2,
           0.217
          ],
          [
           "chiba_lotte_marines",
           257,
           2,
           0.222
          ],
          [
           "hanshin_tigers",
           83,
           2,
           0.324
          ],
          [
           "yakult_swallows",
           378,
           2,
           0.258
          ],
          [
           "yomiuri_giants",
           64,
           2,
           0.196
          ],
          [
           "hokkaido_nippon_ham_fighters",
           101,
           2,
           0.179
          ],
          [
           "hiroshima_carp",
           80,
           2,
           0.299
          ],
          [
           "hiroshima_carp",
           300,
           2,
           0.307
          ],
          [
           "hokkaido_nippon_ham_fighters",
           301,
           2,
           0.291
          ],
          [
           "hokkaido_nippon_ham_fighters",
           63,
           2,
           0.125
          ],
          [
           "hanshin_tigers",
           203,
           2,
           0.249
          ],
          [
           "orix_buffaloes",
           110,
           2,
           0.244
          ],
          [
           "hanshin_tigers",
           70,
           2,
           0.154
          ],
          [
           "fukuoka_softbank_hawks",
           20,
           2,
           0.353
          ],
          [
           "fukuoka_softbank_hawks",
           130,
           2,
           0.171
          ],
          [
           "tohoku_rakuten_golden_eagles",
           479,
           2,
           0.267
          ],
          [
           "saitama_seibu_lions",
           128,
           2,
           0.192
          ],
          [
           "yakult_swallows",
           20,
           2,
           0.2
          ],
          [
           "hiroshima_carp",
           78,
           2,
           0.194
          ],
          [
           "tohoku_rakuten_golden_eagles",
           99,
           1,
           0.25
          ],
          [
           "chunichi_dragons",
           83,
           1,
           0.2
          ],
          [
           "tohoku_rakuten_golden_eagles",
           12,
           1,
           0.2
          ],
          [
           "chunichi_dragons",
           31,
           1,
           0.222
          ],
          [
           "chunichi_dragons",
           24,
           1,
           0.13
          ],
          [
           "tohoku_rakuten_golden_eagles",
           23,
           1,
           0.167
          ],
          [
           "orix_buffaloes",
           51,
           1,
           0.182
          ],
          [
           "chunichi_dragons",
           61,
           1,
           0.218
          ],
          [
           "fukuoka_softbank_hawks",
           405,
           1,
           0.18
          ],
          [
           "saitama_seibu_lions",
           88,
           1,
           0.26
          ],
          [
           "chunichi_dragons",
           16,
           1,
           0.214
          ],
          [
           "fukuoka_softbank_hawks",
           45,
           1,
           0.256
          ],
          [
           "fukuoka_softbank_hawks",
           42,
           1,
           0.167
          ],
          [
           "chunichi_dragons",
           29,
           1,
           0.214
          ],
          [
           "orix_buffaloes",
           127,
           1,
           0.205
          ],
          [
           "orix_buffaloes",
           95,
           1,
           0.149
          ],
          [
           "tohoku_rakuten_golden_eagles",
           70,
           1,
           0.143
          ],
          [
           "orix_buffaloes",
           71,
           1,
           0.138
          ],
          [
           "chunichi_dragons",
           66,
           1,
           0.203
          ],
          [
           "hiroshima_carp",
           76,
           1,
           0.203
          ],
          [
           "fukuoka_softbank_hawks",
           35,
           1,
           0.129
          ],
          [
           "fukuoka_softbank_hawks",
           30,
           1,
           0.214
          ],
          [
           "orix_buffaloes",
           26,
           1,
           0.208
          ],
          [
           "orix_buffaloes",
           167,
           1,
           0.226
          ],
          [
           "tohoku_rakuten_golden_eagles",
           25,
           1,
           0.136
          ],
          [
           "fukuoka_softbank_hawks",
           100,
           1,
           0.301
          ],
          [
           "hiroshima_carp",
           98,
           1,
           0.205
          ],
          [
           "chunichi_dragons",
           482,
           1,
           0.314
          ],
          [
           "tohoku_rakuten_golden_eagles",
           168,
           1,
           0.242
          ],
          [
           "orix_buffaloes",
           243,
           1,
           0.262
          ],
          [
           "orix_buffaloes",
           101,
           1,
           0.196
          ],
          [
           "yokohama_bay_stars",
           107,
           1,
           0.19
          ],
          [
           "yokohama_bay_stars",
           225,
           1,
           0.254
          ],
          [
           "chiba_lotte_marines",
           156,
           1,
           0.248
          ],
          [
           "yakult_swallows",
           131,
           1,
           0.271
          ],
          [
           "yakult_swallows",
           51,
           1,
           0.136
          ],
          [
           "yakult_swallows",
           28,
           1,
           0.148
          ],
          [
           "yakult_swallows",
           134,
           1,
           0.254
          ],
          [
           "yakult_swallows",
           97,
           1,
           0.233
          ],
          [
           "yomiuri_giants",
           36,
           1,
           0.1
          ],
          [
           "yomiuri_giants",
           57,
           1,
           0.204
          ],
          [
           "saitama_seibu_lions",
           128,
           1,
           0.277
          ],
          [
           "yomiuri_giants",
           111,
           1,
           0.242
          ],
          [
           "hokkaido_nippon_ham_fighters",
           167,
           1,
           0.268
          ],
          [
           "chiba_lotte_marines",
           126,
           1,
           0.209
          ],
          [
           "yokohama_bay_stars",
           38,
           1,
           0.156
          ],
          [
           "hanshin_tigers",
           75,
           1,
           0.294
          ],
          [
           "chiba_lotte_marines",
           138,
           1,
           0.256
          ],
          [
           "hanshin_tigers",
           45,
           1,
           0.136
          ],
          [
           "hanshin_tigers",
           73,
           1,
           0.188
          ],
          [
           "hanshin_tigers",
           26,
           1,
           0.231
          ],
          [
           "chiba_lotte_marines",
           76,
           1,
           0.109
          ],
          [
           "hanshin_tigers",
           102,
           1,
           0.256
          ],
          [
           "hanshin_tigers",
           101,
           1,
           0.204
          ],
          [
           "chiba_lotte_marines",
           93,
           1,
           0.209
          ],
          [
           "hanshin_tigers",
           48,
           1,
           0.186
          ],
          [
           "saitama_seibu_lions",
           118,
           1,
           0.173
          ],
          [
           "hokkaido_nippon_ham_fighters",
           106,
           1,
           0.115
          ],
          [
           "yokohama_bay_stars",
           20,
           1,
           0.053
          ],
          [
           "yokohama_bay_stars",
           15,
           1,
           0.267
          ],
          [
           "yokohama_bay_stars",
           54,
           1,
           0.173
          ],
          [
           "yokohama_bay_stars",
           277,
           1,
           0.247
          ],
          [
           "saitama_seibu_lions",
           71,
           1,
           0.155
          ],
          [
           "yokohama_bay_stars",
           12,
           1,
           0.111
          ],
          [
           "yokohama_bay_stars",
           39,
           1,
           0.139
          ],
          [
           "saitama_seibu_lions",
           227,
           1,
           0.25
          ],
          [
           "saitama_seibu_lions",
           2,
           0,
           0
          ],
          [
           "chiba_lotte_marines",
           4,
           0,
           0
          ],
          [
           "chiba_lotte_marines",
           2,
           0,
           0.5
          ],
          [
           "chiba_lotte_marines",
           10,
           0,
           0.111
          ],
          [
           "tohoku_rakuten_golden_eagles",
           17,
           0,
           0.188
          ],
          [
           "chiba_lotte_marines",
           23,
           0,
           0.158
          ],
          [
           "tohoku_rakuten_golden_eagles",
           2,
           0,
           0
          ],
          [
           "chiba_lotte_marines",
           22,
           0,
           0.091
          ],
          [
           "chiba_lotte_marines",
           212,
           0,
           0.173
          ],
          [
           "chiba_lotte_marines",
           32,
           0,
           0.148
          ],
          [
           "chiba_lotte_marines",
           48,
           0,
           0.171
          ],
          [
           "chiba_lotte_marines",
           22,
           0,
           0.167
          ],
          [
           "tohoku_rakuten_golden_eagles",
           25,
           0,
           0.2
          ],
          [
           "fukuoka_softbank_hawks",
           364,
           0,
           0.277
          ],
          [
           "chiba_lotte_marines",
           81,
           0,
           0.177
          ],
          [
           "hokkaido_nippon_ham_fighters",
           2,
           0,
           0
          ],
          [
           "tohoku_rakuten_golden_eagles",
           1,
           0,
           0
          ],
          [
           "hokkaido_nippon_ham_fighters",
           64,
           0,
           0.233
          ],
          [
           "hokkaido_nippon_ham_fighters",
           32,
           0,
           0.063
          ],
          [
           "tohoku_rakuten_golden_eagles",
           71,
           0,
           0.222
          ],
          [
           "chiba_lotte_marines",
           2,
           0,
           0
          ],
          [
           "chiba_lotte_marines",
           34,
           0,
           0.16
          ],
          [
           "tohoku_rakuten_golden_eagles",
           8,
           0,
           0
          ],
          [
           "chiba_lotte_marines",
           2,
           0,
           0
          ],
          [
           "tohoku_rakuten_golden_eagles",
           74,
           0,
           0.242
          ],
          [
           "chiba_lotte_marines",
           33,
           0,
           0.179
          ],
          [
           "tohoku_rakuten_golden_eagles",
           2,
           0,
           0
          ],
          [
           "chiba_lotte_marines",
           5,
           0,
           0.2
          ],
          [
           "tohoku_rakuten_golden_eagles",
           1,
           0,
           0
          ],
          [
           "saitama_seibu_lions",
           2,
           0,
           0
          ],
          [
           "saitama_seibu_lions",
           68,
           0,
           0.185
          ],
          [
           "tohoku_rakuten_golden_eagles",
           1,
           0,
           0
          ],
          [
           "chiba_lotte_marines",
           2,
           0,
           0
          ],
          [
           "chiba_lotte_marines",
           2,
           0,
           0
          ],
          [
           "tohoku_rakuten_golden_eagles",
           19,
           0,
           0.118
          ],
          [
           "saitama_seibu_lions",
           8,
           0,
           0.143
          ],
          [
           "chiba_lotte_marines",
           3,
           0,
           0
          ],
          [
           "tohoku_rakuten_golden_eagles",
           7,
           0,
           0.286
          ],
          [
           "saitama_seibu_lions",
           2,
           0,
           0
          ],
          [
           "chiba_lotte_marines",
           1,
           0,
           null
          ],
          [
           "tohoku_rakuten_golden_eagles",
           4,
           0,
           0
          ],
          [
           "saitama_seibu_lions",
           14,
           0,
           0.2
          ],
          [
           "saitama_seibu_lions",
           32,
           0,
           0.138
          ],
          [
           "chiba_lotte_marines",
           2,
           0,
           0
          ],
          [
           "tohoku_rakuten_golden_eagles",
           3,
           0,
           0
          ],
          [
           "tohoku_rakuten_golden_eagles",
           4,
           0,
           0
          ],
          [
           "hokkaido_nippon_ham_fighters",
           3,
           0,
           0
          ],
          [
           "fukuoka_softbank_hawks",
           3,
           0,
           0
          ],
          [
           "hokkaido_nippon_ham_fighters",
           7,
           0,
           0
          ],
          [
           "saitama_seibu_lions",
           3,
           0,
           0
          ],
          [
           "fukuoka_softbank_hawks",
           29,
           0,
           0.071
          ],
          [
           "hokkaido_nippon_ham_fighters",
           52,
           0,
           0.156
          ],
          [
           "saitama_seibu_lions",
           2,
           0,
           0
          ],
          [
           "fukuoka_softbank_hawks",
           75,
           0,
           0.234
          ],
          [
           "fukuoka_softbank_hawks",
           106,
           0,
           0.204
          ],
          [
           "hokkaido_nippon_ham_fighters",
           48,
           0,
           0.171
          ],
          [
           "fukuoka_softbank_hawks",
           13,
           0,
           0.231
          ],
          [
           "hokkaido_nippon_ham_fighters",
           108,
           0,
           0.229
          ],
          [
           "fukuoka_softbank_hawks",
           2,
           0,
           0
          ],
          [
           "saitama_seibu_lions",
           4,
           0,
           0
          ],
          [
           "hokkaido_nippon_ham_fighters",
           16,
           0,
           0.286
          ],
          [
           "saitama_seibu_lions",
           35,
           0,
           0.152
          ],
          [
           "saitama_seibu_lions",
           93,
           0,
           0.2
          ],
          [
           "fukuoka_softbank_hawks",
           75,
           0,
           0.229
          ],
          [
           "saitama_seibu_lions",
           95,
           0,
           0.207
          ],
          [
           "fukuoka_softbank_hawks",
           4,
           0,
           0
          ],
          [
           "saitama_seibu_lions",
           7,
           0,
           0
          ],
          [
           "fukuoka_softbank_hawks",
           2,
           0,
           0
          ],
          [
           "fukuoka_softbank_hawks",
           1,
           0,
           0
          ],
          [
           "saitama_seibu_lions",
           91,
           0,
           0.224
          ],
          [
           "saitama_seibu_lions",
           44,
           0,
           0.111
          ],
          [
           "fukuoka_softbank_hawks",
           15,
           0,
           0.167
          ],
          [
           "fukuoka_softbank_hawks",
           106,
           0,
           0.278
          ],
          [
           "hokkaido_nippon_ham_fighters",
           51,
           0,
           0.104
          ],
          [
           "hokkaido_nippon_ham_fighters",
           67,
           0,
           0.194
          ],
          [
           "tohoku_rakuten_golden_eagles",
           14,
           0,
           0.1
          ],
          [
           "tohoku_rakuten_golden_eagles",
           30,
           0,
           0.069
          ],
          [
           "hokkaido_nippon_ham_fighters",
           31,
           0,
           0.074
          ],
          [
           "saitama_seibu_lions",
           1,
           0,
           0
          ],
          [
           "hokkaido_nippon_ham_fighters",
           5,
           0,
           0.2
          ],
          [
           "hokkaido_nippon_ham_fighters",
           21,
           0,
           0.111
          ],
          [
           "fukuoka_softbank_hawks",
           35,
           0,
           0.167
          ],
          [
           "hokkaido_nippon_ham_fighters",
           18,
           0,
           0.059
          ],
          [
           "hokkaido_nippon_ham_fighters",
           109,
           0,
           0.165
          ],
          [
           "hokkaido_nippon_ham_fighters",
           2,
           0,
           0
          ],
          [
           "saitama_seibu_lions",
           3,
           0,
           0
          ],
          [
           "hokkaido_nippon_ham_fighters",
           4,
           0,
           0
          ],
          [
           "hokkaido_nippon_ham_fighters",
           6,
           0,
           0.167
          ],
          [
           "saitama_seibu_lions",
           30,
           0,
           0
          ],
          [
           "fukuoka_softbank_hawks",
           4,
           0,
           0
          ],
          [
           "hokkaido_nippon_ham_fighters",
           150,
           0,
           0.223
          ],
          [
           "hokkaido_nippon_ham_fighters",
           44,
           0,
           0.122
          ],
          [
           "hokkaido_nippon_ham_fighters",
           7,
           0,
           0.143
          ],
          [
           "fukuoka_softbank_hawks",
           4,
           0,
           0
          ],
          [
           "hokkaido_nippon_ham_fighters",
           5,
           0,
           0.2
          ],
          [
           "hokkaido_nippon_ham_fighters",
           24,
           0,
           0.125
          ],
          [
           "fukuoka_softbank_hawks",
           1,
           0,
           0
          ],
          [
           "tohoku_rakuten_golden_eagles",
           271,
           0,
           0.261
          ],
          [
           "hanshin_tigers",
           9,
           0,
           0
          ],
          [
           "orix_buffaloes",
           7,
           0,
           0.143
          ],
          [
           "yomiuri_giants",
           48,
           0,
           0.227
          ],
          [
           "yakult_swallows",
           77,
           0,
           0.183
          ],
          [
           "yakult_swallows",
           64,
           0,
           0.175
          ],
          [
           "yakult_swallows",
           3,
           0,
           0
          ],
          [
           "yakult_swallows",
           26,
           0,
           0.1
          ],
          [
           "yakult_swallows",
           1,
           0,
           0
          ],
          [
           "yakult_swallows",
           1,
           0,
           0
          ],
          [
           "yakult_swallows",
           40,
           0,
           0.059
          ],
          [
           "yakult_swallows",
           28,
           0,
           0.136
          ],
          [
           "yakult_swallows",
           12,
           0,
           0.1
          ],
          [
           "yomiuri_giants",
           11,
           0,
           0.182
          ],
          [
           "yokohama_bay_stars",
           6,
           0,
           0
          ],
          [
           "yomiuri_giants",
           33,
           0,
           0.231
          ],
          [
           "yomiuri_giants",
           91,
           0,
           0.2
          ],
          [
           "yomiuri_giants",
           1,
           0,
           0
          ],
          [
           "yomiuri_giants",
           56,
           0,
           0.098
          ],
          [
           "yomiuri_giants",
           1,
           0,
           0
          ],
          [
           "yomiuri_giants",
           6,
           0,
           0.167
          ],
          [
           "yomiuri_giants",
           51,
           0,
           0.047
          ],
          [
           "yomiuri_giants",
           28,
           0,
           0.074
          ],
          [
           "yomiuri_giants",
           128,
           0,
           0.216
          ],
          [
           "yakult_swallows",
           14,
           0,
           0.167
          ],
          [
           "yakult_swallows",
           19,
           0,
           0.353
          ],
          [
           "yakult_swallows",
           23,
           0,
           0.182
          ],
          [
           "yakult_swallows",
           13,
           0,
           0.308
          ],
          [
           "yokohama_bay_stars",
           14,
           0,
           0.154
          ],
          [
           "yokohama_bay_stars",
           15,
           0,
           0.071
          ],
          [
           "yokohama_bay_stars",
           1,
           0,
           0
          ],
          [
           "yakult_swallows",
           3,
           0,
           0
          ],
          [
           "yakult_swallows",
           4,
           0,
           0.333
          ],
          [
           "yakult_swallows",
           1,
           0,
           0
          ],
          [
           "yakult_swallows",
           17,
           0,
           0.125
          ],
          [
           "yakult_swallows",
           17,
           0,
           0.25
          ],
          [
           "yakult_swallows",
           18,
           0,
           0.412
          ],
          [
           "yakult_swallows",
           32,
           0,
           0.037
          ],
          [
           "yakult_swallows",
           29,
           0,
           0.217
          ],
          [
           "yakult_swallows",
           4,
           0,
           0.333
          ],
          [
           "yakult_swallows",
           45,
           0,
           0.103
          ],
          [
           "yakult_swallows",
           2,
           0,
           0
          ],
          [
           "yakult_swallows",
           1,
           0,
           0
          ],
          [
           "yakult_swallows",
           47,
           0,
           0.279
          ],
          [
           "yakult_swallows",
           44,
           0,
           0.146
          ],
          [
           "yakult_swallows",
           1,
           0,
           0
          ],
          [
           "yakult_swallows",
           15,
           0,
           0.071
          ],
          [
           "yomiuri_giants",
           22,
           0,
           0.095
          ],
          [
           "yomiuri_giants",
           5,
           0,
           0
          ],
          [
           "yomiuri_giants",
           142,
           0,
           0.199
          ],
          [
           "hanshin_tigers",
           27,
           0,
           0.13
          ],
          [
           "hanshin_tigers",
           151,
           0,
           0.189
          ],
          [
           "hanshin_tigers",
           1,
           0,
           1
          ],
          [
           "hanshin_tigers",
           1,
           0,
           1
          ],
          [
           "hanshin_tigers",
           19,
           0,
           0.063
          ],
          [
           "hanshin_tigers",
           6,
           0,
           0
          ],
          [
           "hanshin_tigers",
           49,
           0,
           0.048
          ],
          [
           "hanshin_tigers",
           46,
           0,
           0.175
          ],
          [
           "hanshin_tigers",
           3,
           0,
           0
          ],
          [
           "hanshin_tigers",
           52,
           0,
           0.156
          ],
          [
           "hanshin_tigers",
           3,
           0,
           0
          ],
          [
           "hanshin_tigers",
           2,
           0,
           0
          ],
          [
           "hanshin_tigers",
           46,
           0,
           0.121
          ],
          [
           "hanshin_tigers",
           9,
           0,
           0.125
          ],
          [
           "hanshin_tigers",
           1,
           0,
           0
          ],
          [
           "hanshin_tigers",
           5,
           0,
           0
          ],
          [
           "hanshin_tigers",
           1,
           0,
           0
          ],
          [
           "hanshin_tigers",
           27,
           0,
           0.292
          ],
          [
           "hanshin_tigers",
           22,
           0,
           0
          ],
          [
           "hanshin_tigers",
           5,
           0,
           0
          ],
          [
           "hanshin_tigers",
           339,
           0,
           0.264
          ],
          [
           "hanshin_tigers",
           56,
           0,
           0.189
          ],
          [
           "yomiuri_giants",
           76,
           0,
           0.113
          ],
          [
           "hanshin_tigers",
           9,
           0,
           0
          ],
          [
           "yomiuri_giants",
           22,
           0,
           0.15
          ],
          [
           "yomiuri_giants",
           2,
           0,
           0
          ],
          [
           "yomiuri_giants",
           91,
           0,
           0.148
          ],
          [
           "yomiuri_giants",
           55,
           0,
           0.173
          ],
          [
           "yomiuri_giants",
           9,
           0,
           0.111
          ],
          [
           "yomiuri_giants",
           38,
           0,
           0.257
          ],
          [
           "yomiuri_giants",
           37,
           0,
           0.2
          ],
          [
           "yomiuri_giants",
           1,
           0,
           0
          ],
          [
           "yomiuri_giants",
           32,
           0,
           0.276
          ],
          [
           "yomiuri_giants",
           7,
           0,
           0.4
          ],
          [
           "yomiuri_giants",
           1,
           0,
           0
          ],
          [
           "yomiuri_giants",
           11,
           0,
           0.222
          ],
          [
           "yomiuri_giants",
           60,
           0,
           0.18
          ],
          [
           "yomiuri_giants",
           1,
           0,
           0
          ],
          [
           "yomiuri_giants",
           34,
           0,
           0.241
          ],
          [
           "yomiuri_giants",
           3,
           0,
           0
          ],
          [
           "yomiuri_giants",
           19,
           0,
           0.056
          ],
          [
           "hanshin_tigers",
           18,
           0,
           0.067
          ],
          [
           "hanshin_tigers",
           14,
           0,
           0.25
          ],
          [
           "yokohama_bay_stars",
           40,
           0,
           0.25
          ],
          [
           "yokohama_bay_stars",
           34,
           0,
           0.1
          ],
          [
           "orix_buffaloes",
           4,
           0,
           0
          ],
          [
           "chunichi_dragons",
           21,
           0,
           0.294
          ],
          [
           "chunichi_dragons",
           10,
           0,
           0.3
          ],
          [
           "chunichi_dragons",
           14,
           0,
           0.071
          ],
          [
           "chunichi_dragons",
           44,
           0,
           0.108
          ],
          [
           "chunichi_dragons",
           2,
           0,
           0
          ],
          [
           "chunichi_dragons",
           1,
           0,
           0
          ],
          [
           "chunichi_dragons",
           4,
           0,
           0.5
          ],
          [
           "chunichi_dragons",
           2,
           0,
           0
          ],
          [
           "chunichi_dragons",
           608,
           0,
           0.291
          ],
          [
           "chunichi_dragons",
           48,
           0,
           0.048
          ],
          [
           "chunichi_dragons",
           46,
           0,
           0.098
          ],
          [
           "yokohama_bay_stars",
           47,
           0,
           0.184
          ],
          [
           "hanshin_tigers",
           54,
           0,
           0.14
          ],
          [
           "chunichi_dragons",
           157,
           0,
           0.252
          ],
          [
           "chunichi_dragons",
           154,
           0,
           0.211
          ],
          [
           "chunichi_dragons",
           32,
           0,
           0.083
          ],
          [
           "chunichi_dragons",
           9,
           0,
           0.222
          ],
          [
           "chunichi_dragons",
           5,
           0,
           0
          ],
          [
           "chunichi_dragons",
           27,
           0,
           0.231
          ],
          [
           "chunichi_dragons",
           29,
           0,
           0.36
          ],
          [
           "chunichi_dragons",
           75,
           0,
           0.179
          ],
          [
           "chunichi_dragons",
           229,
           0,
           0.248
          ],
          [
           "chunichi_dragons",
           12,
           0,
           0
          ],
          [
           "chunichi_dragons",
           4,
           0,
           0
          ],
          [
           "chunichi_dragons",
           9,
           0,
           0.222
          ],
          [
           "orix_buffaloes",
           2,
           0,
           0
          ],
          [
           "orix_buffaloes",
           19,
           0,
           0.059
          ],
          [
           "orix_buffaloes",
           5,
           0,
           0
          ],
          [
           "orix_buffaloes",
           2,
           0,
           0
          ],
          [
           "orix_buffaloes",
           2,
           0,
           0
          ],
          [
           "orix_buffaloes",
           10,
           0,
           0.25
          ],
          [
           "orix_buffaloes",
           130,
           0,
           0.29
          ],
          [
           "orix_buffaloes",
           47,
           0,
           0.133
          ],
          [
           "orix_buffaloes",
           2,
           0,
           0
          ],
          [
           "orix_buffaloes",
           1,
           0,
           0
          ],
          [
           "orix_buffaloes",
           27,
           0,
           0.13
          ],
          [
           "orix_buffaloes",
           35,
           0,
           0.152
          ],
          [
           "orix_buffaloes",
           20,
           0,
           0.15
          ],
          [
           "orix_buffaloes",
           52,
           0,
           0.184
          ],
          [
           "orix_buffaloes",
           34,
           0,
           0.172
          ],
          [
           "orix_buffaloes",
           9,
           0,
           0.25
          ],
          [
           "orix_buffaloes",
           8,
           0,
           0.125
          ],
          [
           "orix_buffaloes",
           502,
           0,
           0.268
          ],
          [
           "chunichi_dragons",
           50,
           0,
           0.087
          ],
          [
           "chunichi_dragons",
           2,
           0,
           0
          ],
          [
           "chunichi_dragons",
           48,
           0,
           0.191
          ],
          [
           "chunichi_dragons",
           58,
           0,
           0.16
          ],
          [
           "hiroshima_carp",
           99,
           0,
           0.245
          ],
          [
           "hiroshima_carp",
           17,
           0,
           0.071
          ],
          [
           "yokohama_bay_stars",
           12,
           0,
           0.083
          ],
          [
           "yokohama_bay_stars",
           32,
           0,
           0.103
          ],
          [
           "yokohama_bay_stars",
           19,
           0,
           0.158
          ],
          [
           "yokohama_bay_stars",
           5,
           0,
           0
          ],
          [
           "yokohama_bay_stars",
           198,
           0,
           0.195
          ],
          [
           "yokohama_bay_stars",
           12,
           0,
           0.091
          ],
          [
           "yokohama_bay_stars",
           1,
           0,
           0
          ],
          [
           "yokohama_bay_stars",
           30,
           0,
           0.044
          ],
          [
           "yokohama_bay_stars",
           44,
           0,
           0.03
          ],
          [
           "yokohama_bay_stars",
           1,
           0,
           0
          ],
          [
           "yokohama_bay_stars",
           1,
           0,
           0
          ],
          [
           "yokohama_bay_stars",
           1,
           0,
           0
          ],
          [
           "yokohama_bay_stars",
           2,
           0,
           0
          ],
          [
           "yokohama_bay_stars",
           20,
           0,
           0.2
          ],
          [
           "yokohama_bay_stars",
           13,
           0,
           0.077
          ],
          [
           "yokohama_bay_stars",
           103,
           0,
           0.277
          ],
          [
           "yokohama_bay_stars",
           1,
           0,
           0
          ],
          [
           "yokohama_bay_stars",
           29,
           0,
           0.167
          ],
          [
           "hiroshima_carp",
           32,
           0,
           0.067
          ],
          [
           "hiroshima_carp",
           16,
           0,
           0.154
          ],
          [
           "chunichi_dragons",
           9,
           0,
           0.111
          ],
          [
           "hiroshima_carp",
           44,
           0,
           0.029
          ],
          [
           "chunichi_dragons",
           10,
           0,
           0.25
          ],
          [
           "chunichi_dragons",
           4,
           0,
           0.25
          ],
          [
           "chunichi_dragons",
           30,
           0,
           0.042
          ],
          [
           "chunichi_dragons",
           18,
           0,
           0.278
          ],
          [
           "hiroshima_carp",
           38,
           0,
           0.188
          ],
          [
           "hiroshima_carp",
           45,
           0,
           0.2
          ],
          [
           "hiroshima_carp",
           12,
           0,
           0.273
          ],
          [
           "hiroshima_carp",
           7,
           0,
           0
          ],
          [
           "hiroshima_carp",
           6,
           0,
           0
          ],
          [
           "hiroshima_carp",
           48,
           0,
           0.154
          ],
          [
           "hiroshima_carp",
           3,
           0,
           0
          ],
          [
           "hiroshima_carp",
           12,
           0,
           0.091
          ],
          [
           "hiroshima_carp",
           338,
           0,
           0.312
          ],
          [
           "hiroshima_carp",
           12,
           0,
           0.1
          ],
          [
           "hiroshima_carp",
           58,
           0,
           0.193
          ],
          [
           "hiroshima_carp",
           65,
           0,
           0.19
          ],
          [
           "hiroshima_carp",
           2,
           0,
           0
          ],
          [
           "hiroshima_carp",
           6,
           0,
           0
          ],
          [
           "hiroshima_carp",
           2,
           0,
           0
          ],
          [
           "chunichi_dragons",
           46,
           0,
           0.2
          ]
         ],
         "hovertemplate": "<b>%{hovertext}</b><br><br>BB=%{x}<br>SO=%{y}<br>team=%{customdata[0]}<br>PA=%{customdata[1]}<br>HR=%{customdata[2]}<br>batting_avg=%{customdata[3]}<br>onbase_plus_slugging=%{marker.color}<extra></extra>",
         "hovertext": [
          "Munetaka Murakami*",
          "Hotaka Yamakawa",
          "Kazuma Okamoto",
          "Hideto Asamura",
          "Yoshihiro Maru*",
          "Gregory Polanco*",
          "Yuki Yanagita*",
          "Shugo Maki",
          "Sho Nakata",
          "Yusuke Ohyama",
          "Tetsuto Yamada",
          "Adam Walker",
          "Keita Sano*",
          "Masataka Yoshida*",
          "José Osuna",
          "Teruaki Sato*",
          "Kotaro Kiyomiya*",
          "Ryan McBroom",
          "Neftali Soto",
          "Toshiro Miyazaki",
          "Shogo Sakakura*",
          "Koki Yamaguchi",
          "Yasutaka Shiomi",
          "Brandon Laird",
          "Domingo Santana",
          "Yutaro Sugimoto",
          "Brian O'Grady*",
          "Hiroaki Shimauchi*",
          "Arismendy Alcántara#",
          "Dayán Viciedo",
          "Chusei Mannami",
          "Alfredo Despaigne",
          "Takumi Ohshiro*",
          "Takeya Nakamura",
          "Shuta Tonosaki",
          "Shogo Nakamura",
          "Yuma Tongu",
          "Ryosuke Tatsumi*",
          "Yuma Imagawa",
          "Isami Nomura",
          "Ryoma Nishikawa*",
          "Masaki Mimori*",
          "Hideki Nagaoka*",
          "Toshiki Abe",
          "Aito Takeda",
          "Hisanori Yasuda*",
          "Leonys Martín*",
          "Eigoro Mogi*",
          "Mel Rojas#",
          "Keita Nakagawa",
          "Ariel Martínez",
          "Shota Dohbayashi",
          "Kensuke Kondoh*",
          "Tomoya Mori*",
          "Toshiya Satoh*",
          "Akira Nakamura*",
          "Naoki Yoshikawa*",
          "Yurisbel Gracial",
          "José Marmolejos*",
          "Haruki Nishikawa*",
          "Seiya Inoue",
          "Kenta Imamiya",
          "Kaito Kozono*",
          "Patrick Kivlehan",
          "Yuki Nomura",
          "Takuya Kinoshita",
          "Taishi Kusumoto*",
          "Taiki Hamada",
          "Ryosuke Kikuchi",
          "Taisei Makihara*",
          "Hiromi Oka",
          "Kazunari Ishii*",
          "Kotaro Kurebayashi",
          "Takumu Nakano*",
          "Ukyo Shuto",
          "Yuma Mune*",
          "Nien Ting Wu*",
          "Takaya Ishikawa",
          "Hiroki Minei#",
          "Shogo Akiyama*",
          "Nori Aoki*",
          "Taishi Ohta",
          "Takashi Ogino",
          "Yuhei Nakamura",
          "Shingo Usami*",
          "Riku Masuda",
          "Daichi Suzuki*",
          "Hayato Sakamoto",
          "Masayuki Kuwahara",
          "Daiki Asama*",
          "Ryutaro Umeno",
          "Kosuke Ukai",
          "Kenya Wakatsuki",
          "Ginjiro Sumitani",
          "Joe McCarthy*",
          "Yasutaka Tobashira*",
          "Renato Núñez",
          "Souma Uchiyama",
          "Tsuyoshi Yamasaki*",
          "Kento Itohara*",
          "Richard Sunagawa",
          "Tatsuo Ebina",
          "Kento Nakamura",
          "Torai Fushimi",
          "Akito Takabe*",
          "Yoshitaka Isomura",
          "Yoshio Itoi*",
          "Go Matsumoto",
          "Riku Watanabe*",
          "Yota Kyoda*",
          "Takero Okajima*",
          "Hisayoshi Chono",
          "Takumi Kuriyama*",
          "Koji Chikamoto*",
          "Masami Ishigaki",
          "Tsubasa Aizawa",
          "Tomoya Masaki",
          "Hikaru Ohta",
          "Kodai Sano",
          "Seiji Kawagoe*",
          "Shuhei Takahashi*",
          "Sosuke Genda*",
          "Junichiro Kishi",
          "Keito Mori*",
          "Ryuhei Matsuyama*",
          "Adeiny Hechavarria",
          "Fumihito Haraguchi",
          "Kotaro Yamasaki*",
          "Zelous Wheeler",
          "Fumikazu Kimura",
          "Shota Suekane",
          "Takashi Uemoto",
          "Daigo Kamikawabata*",
          "Takuya Kohri",
          "Yasuhiro Yamamoto",
          "Koji Ohshiro",
          "Aderlin Rodríguez",
          "Ryoya Kurihara*",
          "Freddy Galvis#",
          "Hiroto Kobukata*",
          "Jantzen Witte",
          "Naoki Matsumoto",
          "Masaya Yano*",
          "Atsuki Mutoh*",
          "Ryosuke Hirata",
          "Yuma Yasuda*",
          "Shohei Katoh#",
          "Ayatsugu Yamashita*",
          "Yuya Ogoh*",
          "Tatsuya Yamaashi",
          "Hironori Miyoshi*",
          "Takuya Kai",
          "Shota Hiranuma*",
          "Akiyoshi Katsuno",
          "Shu Masuda",
          "Takashi Umino",
          "Nobumasa Fukuda",
          "Breyvic Valera#",
          "Takahiro Okada*",
          "Kazuki Tanaka#",
          "Rangel Ravelo",
          "Pedro Revilla",
          "Minoru Ohmori*",
          "Naoki Satoh",
          "Masahiro Nakatani",
          "Yuya Oda*",
          "Tomoya Noguchi*",
          "Keizo Kawashima",
          "Seiji Uebayashi*",
          "Koki Ugusa*",
          "Yohei Ohshima*",
          "Yoshiaki Watanabe*",
          "Ryoichi Adachi",
          "Ryo Ohta",
          "Kazuki Kamizato*",
          "Taiki Sekine*",
          "Kenta Chatani",
          "Kengo Ohta*",
          "Yasuhiro Ogawa",
          "Hiyu Motoyama*",
          "Takeshi Miyamoto*",
          "Kazuya Maruyama*",
          "Dai Yuasa",
          "Soichiro Tateoka",
          "Yuji Kaneko#",
          "Hiroyuki Nakajima",
          "Ryota Yachi",
          "Kyota Fujiwara*",
          "Tyler Austin",
          "Naomasa Yohkawa",
          "Katsuya Kakunaka*",
          "Dan Onodera",
          "Ryuhei Obata*",
          "Junya Nishi",
          "Ryusei Ogawa*",
          "Jefry Marte",
          "Seiya Kinami*",
          "Tsuyoshi Sugano*",
          "Fumiya Hojoh",
          "Sena Tsuge",
          "Ryusei Satoh",
          "Seiya Hosokawa",
          "Kouki Kajiwara*",
          "Toshihiko Kuramoto*",
          "Yamato Maeda",
          "Yuto Koga",
          "Masaya Kyoyama",
          "Shumei Miyamoto*",
          "Shohei Suzuki*",
          "Kona Takahashi",
          "Ayumu Ishikawa",
          "Tokito Kawamura",
          "Takuma Katoh",
          "Itsuki Murabayashi",
          "Tomoya Kakinuma",
          "Takahiro Norimoto*",
          "Raito Ikeda",
          "Kou Matsukawa",
          "Taiga Hirasawa*",
          "Shuhei Fukuda*",
          "Koki Fukuda*",
          "Louis Okoye",
          "Tatsuru Yanagimachi*",
          "Yudai Fujioka*",
          "Kosei Yoshida",
          "Ryota Takinaka",
          "Ryo Watanabe",
          "Po Jung Wang*",
          "Fumiya Kurokawa*",
          "Manabu Mima*",
          "Ryo Miki",
          "Yukiya Itoh",
          "Daito Yamamoto",
          "Chris Gittens",
          "Koshiro Wada*",
          "Takahisa Hayakawa*",
          "Tatsuhiro Tamura",
          "Kengo Horiuchi*",
          "Katsunori Hirai",
          "Shinya Hasegawa",
          "Tsuyoshi Ishihara",
          "Shoma Sato*",
          "Roki Sasaki",
          "Takaya Tanaka*",
          "Ryota Kawano#",
          "Kazuya Ojima*",
          "Masaki Iwami",
          "Dietrich Enns*",
          "Kenji Nishimaki",
          "Wataru Karashima*",
          "Masato Kumashiro",
          "Shoya Makino*",
          "Fumiya Motomae*",
          "Takayuki Kishi",
          "Masahiro Tanaka",
          "Naoyuki Uwasawa",
          "Kodai Senga*",
          "Naoki Arizono",
          "Shunsuke Sato*",
          "Yusuke Masago",
          "Ryo Ishikawa",
          "Chihiro Sumida*",
          "Kenta Tanigawara*",
          "Nobuhiro Matsuda",
          "Ryohei Hosokawa*",
          "Tomoki Takata*",
          "Yudai Furukawa*",
          "Yuki Matsumoto*",
          "Kaito Yoza",
          "Ryota Isobata*",
          "Kakeru Yamanobe",
          "Haruka Yamada",
          "Daiju Nomura",
          "Gakuto Wakabayashi",
          "Kazuki Sugiyama",
          "Daisuke Togawa*",
          "Tomohisa Ohzeki*",
          "Colin Rea",
          "Natsuo Takizawa*",
          "Wataru Takagi*",
          "Kenta Kurose",
          "Hikaru Kawase*",
          "Yuki Umebayashi",
          "Yushi Shimizu",
          "Yasuhito Uchida",
          "Ren Wada",
          "Kyohei Ueno",
          "Daichi Nakaguma*",
          "Kenta Uehara*",
          "Yua Tamiya*",
          "Kenji Akashi*",
          "Yuto Takahama",
          "Kenshi Sugiya#",
          "Toshihiro Sugiura",
          "Seigo Nakayama*",
          "Hiromi Itoh*",
          "Uta Sakaguchi*",
          "Manaya Nishikawa*",
          "Nao Higashihama",
          "Takuya Nakashima*",
          "Tatsuki Mizuno*",
          "Hokuto Miyata#",
          "Shuta Ishikawa",
          "Takayuki Katoh*",
          "Shoto Kataoka*",
          "Jumpei Kawarada",
          "Ginji Akaminai*",
          "Takumi Akiyama*",
          "Sachiya Yamasaki*",
          "Takumaru Yaoita*",
          "Yudai Koga",
          "Shingo Kawabata*",
          "Yuto Kanakubo*",
          "Masanori Ishikawa*",
          "Yuta Ichikawa",
          "Tomoya Hoshi",
          "Juri Hara",
          "Takahiro Araki",
          "Yoshihiro Akahane",
          "Shinnosuke Yamase",
          "Robert Gsellman",
          "Iori Yamasaki*",
          "Akihiro Wakabayashi#",
          "Chiaki Tone*",
          "Shosei Togo",
          "Yuhei Takanashi*",
          "Yuki Takahashi*",
          "Tomoyuki Sugano",
          "Matt Shoemaker",
          "Shinnosuke Shigenobu*",
          "Reiji Kozawa*",
          "Yu Matsumoto*",
          "Hidetaka Namiki",
          "Akihisa Nishida",
          "Naoto Chino",
          "Katsuki Azuma*",
          "Yuki Ariyoshi",
          "Daiki Yoshida",
          "Hikaru Yamashita*",
          "Daiki Yamamoto*",
          "Daiki Watanabe",
          "Seiichi Uchikawa",
          "Ryusei Takeoka*",
          "Hirotoshi Takanashi",
          "Keiji Takahashi*",
          "Andrew Suárez*",
          "Cy Sneed",
          "Motohiro Shima",
          "Koshiro Sakamoto*",
          "Tomotaka Sakaguchi*",
          "Nobuyuki Okumura*",
          "Yasunobu Okugawa",
          "Naomichi Nishiura",
          "Yuki Okada*",
          "Daisuke Naoe",
          "Raito Nakayama*",
          "Nozomu Takatera*",
          "Seishiro Sakamoto",
          "Yuki Sakaeda",
          "Yukiya Saitoh*",
          "Hiroto Saiki",
          "Ippei Ogawa",
          "Yuki Nishi",
          "Kenya Nagasaka",
          "Daichi Moriki",
          "Takahiro Kumagai#",
          "Takuma Kirishiki*",
          "Yuya Katayama*",
          "Masashi Itoh*",
          "Yutaro Itayama*",
          "Daichi Ishii",
          "Kouta Inoue",
          "Masumi Hamachi",
          "Joe Gunkel",
          "Shintaro Fujinami",
          "Taiga Egoshi",
          "Kairi Shimada*",
          "Shun Takayama*",
          "Seiya Matsubara*",
          "Hiroshi Toyoda",
          "Daiki Masuda",
          "Takuya Kuwahara",
          "Seiji Kobayashi",
          "Takumi Kitamura",
          "Ryusuke Kita",
          "Yukinori Kishida",
          "Kazuya Katsuki*",
          "Yohei Kagiya",
          "Shingo Ishikawa",
          "Haruto Inoue*",
          "Nobutaka Imamura*",
          "Kenshin Hotta",
          "Taishi Hirooka",
          "Rubby De La Rosa",
          "Cristopher Crisostomo*",
          "Matt Andriese",
          "Yuji Akahoshi",
          "Aaron Wilkerson",
          "Kai Ueda",
          "Kazuya Fujita*",
          "Haruhiro Hamaguchi*",
          "Taisuke Yamaoka*",
          "Shota Ohno",
          "Kaname Takino*",
          "Wataru Takamatsu*",
          "Hiroto Takahashi",
          "Hiroshi Suzuki",
          "Tatsuya Shimizu",
          "Yuichiro Okano",
          "Toshiya Okada*",
          "Yuki Okabayashi*",
          "Yudai Ohno*",
          "Shinnosuke Ogasawara*",
          "Shota Imanaga*",
          "Koyo Aoyagi",
          "Hayato Mizowaki*",
          "Taiki Mitsumata",
          "Takahiro Matsuba*",
          "Iori Katsura",
          "Shotaro Kasahara*",
          "Kosuke Itoh",
          "Ryota Ishioka*",
          "Kota Ishibashi",
          "Ryuku Tsuchida*",
          "Kotaro Ueda*",
          "Luke Wakamatsu#",
          "Masaru Watanabe*",
          "Yoshinobu Yamamoto",
          "Haruto Watanabe*",
          "Jacob Waguespack",
          "Daiki Tajima*",
          "Yukikazu Sano*",
          "Seiichiro Ohshita",
          "Masahiro Nishino*",
          "Ryo Nishimura",
          "Hiroya Miyagi*",
          "Masato Matsui*",
          "Ryoto Kita*",
          "Ryota Ishioka*",
          "Ryoma Ikeda",
          "Shunta Gotoh*",
          "Sho Gibo*",
          "Kendai Gen",
          "Sho Fukunaga",
          "Shuhei Fukuda*",
          "Yuya Yanagi",
          "Yuki Hashimoto*",
          "Yuya Gunji",
          "Shunta Gotoh*",
          "Ryutaro Hatsuki*",
          "Drew Anderson",
          "Kouki Yamashita*",
          "Yuudai Yamamoto",
          "Shunta Tanaka*",
          "Hayato Tanabe",
          "Tatsuhiro Shibata*",
          "Yuya Sakamoto*",
          "Kousuke Sakaguchi*",
          "Fernando Romero",
          "Shinichi Ohnuki",
          "Ryosuke Miyaguni",
          "Ginji Miura",
          "Tomoya Mikami",
          "Kyosuke Mashiko",
          "Taiga Kamichatani",
          "Yukiya Itoh",
          "Hikaru Itoh",
          "Tatsuya Ishikawa",
          "Kenta Ishida*",
          "Atsushi Endoh",
          "Tomoki Ishihara",
          "Guillermo García*",
          "Aren Kuri",
          "Koji Fukutani",
          "Yuma Fukumoto",
          "Kosuke Fukudome*",
          "Naomichi Donoue",
          "Hiroki Tokoda*",
          "Kosuke Tanaka*",
          "Shogo Tamamura*",
          "Kaisei Sone*",
          "Yuta Shirahama",
          "Daichi Ohsera",
          "Haruki Ohmichi",
          "Yusuke Nomura",
          "Takayoshi Noma*",
          "Yuya Nirasawa*",
          "Shosei Nakamura",
          "Masato Morishita",
          "Shohei Mori*",
          "Taiki Mochimaru*",
          "Takumi Miyoshi",
          "Akira Neo*"
         ],
         "legendgroup": "",
         "marker": {
          "color": [
           1.168,
           0.953,
           0.805,
           0.801,
           0.859,
           0.762,
           0.829,
           0.861,
           0.833,
           0.827,
           0.79,
           0.821,
           0.853,
           1.008,
           0.751,
           0.798,
           0.734,
           0.794,
           0.815,
           0.835,
           0.774,
           0.725,
           0.797,
           0.574,
           0.904,
           0.723,
           0.696,
           0.826,
           0.658,
           0.792,
           0.629,
           0.783,
           0.755,
           0.597,
           0.65,
           0.746,
           0.751,
           0.755,
           0.679,
           0.801,
           0.822,
           0.688,
           0.61,
           0.735,
           0.635,
           0.74,
           0.61,
           0.695,
           0.732,
           0.767,
           0.787,
           0.679,
           0.879,
           0.718,
           0.574,
           0.685,
           0.708,
           0.72,
           0.62,
           0.683,
           0.767,
           0.761,
           0.662,
           0.758,
           0.724,
           0.631,
           0.683,
           0.621,
           0.659,
           0.739,
           0.698,
           0.663,
           0.593,
           0.647,
           0.688,
           0.697,
           0.649,
           0.675,
           0.533,
           0.746,
           0.696,
           0.775,
           0.811,
           0.695,
           0.668,
           0.718,
           0.685,
           0.759,
           0.676,
           0.624,
           0.581,
           0.589,
           0.718,
           0.593,
           0.687,
           0.662,
           0.527,
           0.661,
           0.617,
           0.606,
           0.56,
           0.645,
           0.623,
           0.616,
           0.666,
           0.652,
           0.603,
           0.836,
           0.909,
           0.545,
           0.605,
           0.594,
           0.686,
           0.704,
           0.48,
           0.548,
           0.815,
           0.629,
           0.589,
           0.727,
           0.614,
           0.655,
           0.64,
           0.586,
           0.568,
           0.551,
           0.827,
           0.643,
           0.636,
           0.502,
           0.742,
           0.748,
           0.716,
           0.447,
           0.594,
           0.689,
           0.477,
           1.215,
           0.528,
           0.67,
           0.51,
           0.7,
           0.564,
           0.698,
           0.557,
           0.833,
           0.683,
           0.428,
           0.639,
           0.507,
           0.591,
           0.498,
           0.699,
           0.786,
           0.764,
           0.452,
           0.599,
           0.571,
           0.44,
           0.467,
           0.503,
           0.509,
           0.61,
           0.529,
           0.626,
           0.644,
           0.561,
           0.492,
           0.745,
           0.54,
           0.743,
           0.589,
           0.669,
           0.538,
           0.6,
           0.606,
           0.644,
           0.679,
           0.364,
           0.519,
           0.664,
           0.569,
           0.439,
           0.523,
           0.693,
           0.649,
           0.655,
           0.524,
           0.602,
           0.778,
           0.614,
           0.428,
           0.455,
           0.615,
           0.457,
           0.624,
           0.532,
           0.583,
           0.497,
           0.452,
           0.342,
           0.311,
           0.733,
           0.42,
           0.586,
           0.506,
           0.644,
           0.518,
           0.6,
           0,
           0,
           1,
           0.333,
           0.423,
           0.316,
           0,
           0.227,
           0.445,
           0.398,
           0.487,
           0.54,
           0.4,
           0.703,
           0.456,
           0,
           0,
           0.648,
           0.156,
           0.566,
           0,
           0.382,
           0,
           0,
           0.639,
           0.496,
           0.5,
           0.4,
           0,
           0.5,
           0.467,
           0,
           0,
           0,
           0.328,
           0.268,
           0.333,
           0.714,
           0,
           null,
           0,
           0.4,
           0.4,
           0,
           0,
           0,
           0,
           0,
           0,
           0,
           0.143,
           0.347,
           0,
           0.684,
           0.5,
           0.537,
           0.615,
           0.549,
           0,
           0,
           0.661,
           0.442,
           0.495,
           0.599,
           0.465,
           0,
           0.143,
           0,
           0,
           0.529,
           0.306,
           0.433,
           0.66,
           0.247,
           0.429,
           0.331,
           0.136,
           0.249,
           0,
           0.6,
           0.325,
           0.476,
           0.114,
           0.414,
           0,
           0,
           0,
           0.333,
           0,
           0,
           0.543,
           0.334,
           0.286,
           0,
           0.4,
           0.292,
           0,
           0.62,
           0,
           0.286,
           0.564,
           0.425,
           0.427,
           0,
           0.282,
           0,
           0,
           0.223,
           0.503,
           0.282,
           0.455,
           0,
           0.58,
           0.499,
           0,
           0.233,
           0,
           0.333,
           0.115,
           0.148,
           0.518,
           0.333,
           0.833,
           0.545,
           0.615,
           0.368,
           0.143,
           0,
           0,
           0.833,
           0,
           0.313,
           0.669,
           0.974,
           0.108,
           0.497,
           0.667,
           0.249,
           0,
           0,
           0.689,
           0.332,
           0,
           0.143,
           0.232,
           0,
           0.44,
           0.453,
           0.497,
           2,
           3,
           0.18,
           0,
           0.117,
           0.425,
           0,
           0.308,
           0,
           0,
           0.323,
           0.347,
           0,
           0,
           0,
           0.695,
           0,
           0.2,
           0.602,
           0.445,
           0.315,
           0.125,
           0.391,
           0,
           0.362,
           0.435,
           0.222,
           0.573,
           0.5,
           0,
           0.723,
           0.8,
           0,
           0.586,
           0.573,
           0,
           0.517,
           0,
           0.111,
           0.133,
           0.607,
           0.575,
           0.2,
           0,
           0.694,
           0.6,
           0.143,
           0.243,
           0,
           0,
           1,
           0,
           0.702,
           0.117,
           0.262,
           0.416,
           0.297,
           0.591,
           0.581,
           0.208,
           0.444,
           0,
           0.606,
           0.767,
           0.487,
           0.573,
           0,
           0.25,
           0.444,
           0,
           0.17,
           0,
           0,
           0,
           0.9,
           0.69,
           0.441,
           0,
           0,
           0.361,
           0.358,
           0.3,
           0.455,
           0.4,
           0.5,
           0.25,
           0.647,
           0.213,
           0,
           0.506,
           0.51,
           0.616,
           0.143,
           0.167,
           0.294,
           0.316,
           0,
           0.521,
           0.182,
           0,
           0.164,
           0.061,
           0,
           0,
           0,
           0.5,
           0.494,
           0.154,
           0.691,
           0,
           0.367,
           0.133,
           0.368,
           0.222,
           0.084,
           0.583,
           0.5,
           0.25,
           0.556,
           0.406,
           0.542,
           0.636,
           0,
           0,
           0.349,
           0.5,
           0.182,
           0.745,
           0.282,
           0.435,
           0.462,
           0,
           0,
           0,
           0.539
          ],
          "coloraxis": "coloraxis",
          "line": {
           "width": 2
          },
          "size": 10,
          "symbol": "circle"
         },
         "mode": "markers",
         "name": "",
         "orientation": "v",
         "showlegend": false,
         "type": "scatter",
         "x": [
          118,
          68,
          58,
          92,
          80,
          42,
          43,
          43,
          27,
          59,
          60,
          18,
          43,
          80,
          29,
          51,
          45,
          52,
          38,
          44,
          46,
          23,
          43,
          19,
          23,
          40,
          54,
          63,
          21,
          40,
          12,
          28,
          36,
          14,
          52,
          70,
          23,
          42,
          19,
          17,
          30,
          28,
          20,
          49,
          10,
          45,
          31,
          27,
          22,
          26,
          23,
          11,
          66,
          41,
          21,
          45,
          32,
          33,
          20,
          68,
          29,
          37,
          24,
          2,
          16,
          27,
          23,
          6,
          24,
          16,
          24,
          20,
          26,
          18,
          22,
          45,
          37,
          7,
          6,
          11,
          28,
          6,
          30,
          26,
          12,
          13,
          38,
          45,
          42,
          11,
          30,
          9,
          9,
          18,
          26,
          3,
          9,
          16,
          17,
          35,
          6,
          10,
          8,
          8,
          36,
          7,
          16,
          32,
          3,
          10,
          10,
          10,
          23,
          41,
          2,
          23,
          10,
          21,
          4,
          18,
          16,
          30,
          5,
          13,
          11,
          10,
          9,
          24,
          8,
          4,
          1,
          21,
          21,
          4,
          10,
          12,
          2,
          3,
          15,
          37,
          6,
          0,
          7,
          8,
          7,
          2,
          2,
          1,
          2,
          3,
          2,
          38,
          11,
          0,
          3,
          0,
          1,
          13,
          7,
          6,
          11,
          2,
          6,
          3,
          0,
          1,
          9,
          1,
          3,
          4,
          34,
          12,
          26,
          6,
          8,
          9,
          12,
          8,
          0,
          0,
          8,
          1,
          4,
          3,
          8,
          10,
          8,
          9,
          6,
          4,
          9,
          1,
          2,
          0,
          12,
          8,
          5,
          7,
          2,
          4,
          7,
          1,
          0,
          1,
          10,
          9,
          1,
          2,
          9,
          0,
          0,
          0,
          0,
          1,
          0,
          0,
          0,
          18,
          4,
          7,
          4,
          0,
          38,
          7,
          0,
          0,
          3,
          0,
          7,
          0,
          1,
          0,
          0,
          11,
          3,
          1,
          0,
          0,
          1,
          3,
          0,
          0,
          0,
          1,
          0,
          1,
          0,
          0,
          1,
          0,
          0,
          2,
          0,
          0,
          0,
          0,
          0,
          0,
          0,
          0,
          2,
          0,
          7,
          6,
          4,
          0,
          8,
          0,
          0,
          2,
          1,
          8,
          3,
          4,
          0,
          0,
          0,
          0,
          4,
          4,
          2,
          8,
          1,
          1,
          2,
          0,
          2,
          0,
          0,
          1,
          3,
          0,
          8,
          0,
          0,
          0,
          0,
          0,
          0,
          11,
          2,
          0,
          0,
          0,
          0,
          0,
          28,
          0,
          0,
          4,
          2,
          4,
          0,
          2,
          0,
          0,
          2,
          6,
          0,
          0,
          0,
          2,
          7,
          0,
          1,
          0,
          0,
          1,
          0,
          8,
          0,
          2,
          0,
          0,
          1,
          0,
          0,
          0,
          1,
          0,
          0,
          1,
          0,
          1,
          2,
          0,
          2,
          0,
          0,
          3,
          2,
          0,
          0,
          1,
          0,
          6,
          2,
          13,
          0,
          0,
          1,
          0,
          1,
          0,
          0,
          0,
          0,
          0,
          2,
          1,
          0,
          0,
          0,
          1,
          0,
          1,
          15,
          2,
          4,
          1,
          1,
          0,
          1,
          1,
          0,
          2,
          2,
          0,
          3,
          0,
          0,
          2,
          7,
          0,
          0,
          0,
          0,
          0,
          2,
          4,
          0,
          0,
          3,
          0,
          0,
          0,
          0,
          0,
          0,
          0,
          29,
          1,
          2,
          1,
          1,
          8,
          16,
          0,
          0,
          0,
          1,
          1,
          2,
          7,
          0,
          1,
          0,
          0,
          1,
          0,
          0,
          0,
          1,
          8,
          1,
          0,
          0,
          3,
          1,
          0,
          2,
          1,
          0,
          0,
          32,
          1,
          0,
          5,
          4,
          4,
          0,
          0,
          2,
          0,
          0,
          20,
          0,
          0,
          2,
          0,
          0,
          0,
          0,
          1,
          2,
          0,
          8,
          0,
          1,
          0,
          1,
          0,
          1,
          1,
          0,
          4,
          0,
          0,
          3,
          0,
          0,
          0,
          2,
          1,
          0,
          16,
          1,
          1,
          1,
          0,
          0,
          0,
          5
         ],
         "xaxis": "x",
         "y": [
          128,
          114,
          94,
          137,
          88,
          109,
          106,
          82,
          72,
          103,
          140,
          98,
          57,
          41,
          93,
          137,
          113,
          105,
          103,
          35,
          81,
          84,
          122,
          92,
          73,
          135,
          129,
          82,
          87,
          59,
          112,
          80,
          77,
          76,
          113,
          86,
          51,
          103,
          70,
          64,
          74,
          81,
          72,
          105,
          70,
          86,
          76,
          74,
          53,
          79,
          55,
          82,
          45,
          66,
          63,
          48,
          53,
          75,
          68,
          103,
          54,
          71,
          76,
          21,
          71,
          38,
          55,
          34,
          70,
          71,
          56,
          64,
          71,
          89,
          56,
          81,
          54,
          29,
          54,
          34,
          28,
          33,
          30,
          36,
          42,
          42,
          52,
          65,
          89,
          55,
          77,
          64,
          34,
          52,
          58,
          26,
          61,
          52,
          46,
          48,
          29,
          43,
          31,
          42,
          103,
          20,
          29,
          42,
          15,
          21,
          27,
          34,
          57,
          63,
          28,
          49,
          24,
          46,
          29,
          41,
          43,
          72,
          9,
          42,
          22,
          48,
          5,
          65,
          7,
          39,
          20,
          31,
          45,
          16,
          42,
          25,
          17,
          1,
          29,
          65,
          36,
          1,
          21,
          28,
          20,
          4,
          5,
          8,
          4,
          11,
          16,
          85,
          14,
          6,
          6,
          11,
          7,
          11,
          28,
          25,
          20,
          30,
          17,
          17,
          11,
          7,
          56,
          9,
          19,
          23,
          52,
          24,
          46,
          22,
          26,
          31,
          33,
          24,
          14,
          5,
          15,
          25,
          10,
          10,
          25,
          24,
          24,
          23,
          14,
          20,
          35,
          12,
          21,
          8,
          18,
          19,
          19,
          20,
          6,
          33,
          23,
          9,
          9,
          12,
          47,
          16,
          5,
          8,
          24,
          1,
          4,
          1,
          3,
          5,
          4,
          2,
          6,
          60,
          4,
          13,
          3,
          8,
          79,
          17,
          1,
          1,
          17,
          12,
          9,
          1,
          8,
          4,
          2,
          25,
          12,
          1,
          1,
          0,
          1,
          21,
          0,
          2,
          1,
          7,
          2,
          1,
          3,
          1,
          0,
          2,
          4,
          7,
          2,
          1,
          1,
          0,
          1,
          4,
          2,
          10,
          7,
          2,
          18,
          20,
          14,
          4,
          23,
          1,
          2,
          6,
          4,
          21,
          18,
          34,
          3,
          3,
          2,
          0,
          21,
          14,
          8,
          21,
          19,
          15,
          4,
          10,
          9,
          0,
          3,
          4,
          5,
          12,
          21,
          2,
          1,
          3,
          4,
          5,
          3,
          31,
          16,
          1,
          3,
          4,
          11,
          1,
          31,
          2,
          0,
          17,
          11,
          7,
          0,
          3,
          1,
          0,
          11,
          7,
          5,
          2,
          3,
          9,
          24,
          1,
          26,
          1,
          5,
          18,
          14,
          28,
          4,
          5,
          3,
          4,
          5,
          5,
          0,
          0,
          2,
          0,
          5,
          2,
          3,
          19,
          12,
          1,
          25,
          1,
          1,
          13,
          16,
          1,
          8,
          7,
          3,
          27,
          5,
          26,
          0,
          0,
          11,
          3,
          17,
          16,
          1,
          10,
          2,
          2,
          19,
          4,
          0,
          2,
          0,
          10,
          13,
          3,
          56,
          12,
          21,
          4,
          5,
          1,
          20,
          16,
          1,
          6,
          8,
          1,
          9,
          2,
          1,
          3,
          16,
          0,
          7,
          3,
          11,
          7,
          1,
          5,
          13,
          3,
          4,
          3,
          5,
          12,
          1,
          1,
          2,
          1,
          67,
          21,
          22,
          9,
          26,
          26,
          39,
          11,
          2,
          3,
          5,
          6,
          11,
          43,
          8,
          0,
          3,
          1,
          7,
          2,
          1,
          0,
          2,
          13,
          12,
          0,
          0,
          8,
          10,
          8,
          15,
          3,
          3,
          2,
          50,
          20,
          1,
          12,
          10,
          17,
          8,
          3,
          4,
          3,
          1,
          29,
          5,
          1,
          8,
          13,
          0,
          0,
          1,
          1,
          6,
          6,
          23,
          1,
          7,
          13,
          3,
          5,
          14,
          2,
          0,
          11,
          4,
          7,
          14,
          7,
          3,
          1,
          18,
          0,
          4,
          53,
          1,
          8,
          14,
          1,
          3,
          1,
          9
         ],
         "yaxis": "y"
        },
        {
         "hovertemplate": "<b>OLS trendline</b><br>SO = 1.62034 * BB + 9.52807<br>R<sup>2</sup>=0.728838<br><br>BB=%{x}<br>SO=%{y} <b>(trend)</b><extra></extra>",
         "legendgroup": "",
         "line": {
          "color": "purple"
         },
         "marker": {
          "line": {
           "width": 2
          },
          "size": 10,
          "symbol": "circle"
         },
         "mode": "lines",
         "name": "",
         "showlegend": false,
         "type": "scatter",
         "x": [
          0,
          0,
          0,
          0,
          0,
          0,
          0,
          0,
          0,
          0,
          0,
          0,
          0,
          0,
          0,
          0,
          0,
          0,
          0,
          0,
          0,
          0,
          0,
          0,
          0,
          0,
          0,
          0,
          0,
          0,
          0,
          0,
          0,
          0,
          0,
          0,
          0,
          0,
          0,
          0,
          0,
          0,
          0,
          0,
          0,
          0,
          0,
          0,
          0,
          0,
          0,
          0,
          0,
          0,
          0,
          0,
          0,
          0,
          0,
          0,
          0,
          0,
          0,
          0,
          0,
          0,
          0,
          0,
          0,
          0,
          0,
          0,
          0,
          0,
          0,
          0,
          0,
          0,
          0,
          0,
          0,
          0,
          0,
          0,
          0,
          0,
          0,
          0,
          0,
          0,
          0,
          0,
          0,
          0,
          0,
          0,
          0,
          0,
          0,
          0,
          0,
          0,
          0,
          0,
          0,
          0,
          0,
          0,
          0,
          0,
          0,
          0,
          0,
          0,
          0,
          0,
          0,
          0,
          0,
          0,
          0,
          0,
          0,
          0,
          0,
          0,
          0,
          0,
          0,
          0,
          0,
          0,
          0,
          0,
          0,
          0,
          0,
          0,
          0,
          0,
          0,
          0,
          0,
          0,
          0,
          0,
          0,
          0,
          0,
          0,
          0,
          0,
          0,
          0,
          0,
          0,
          0,
          0,
          0,
          0,
          1,
          1,
          1,
          1,
          1,
          1,
          1,
          1,
          1,
          1,
          1,
          1,
          1,
          1,
          1,
          1,
          1,
          1,
          1,
          1,
          1,
          1,
          1,
          1,
          1,
          1,
          1,
          1,
          1,
          1,
          1,
          1,
          1,
          1,
          1,
          1,
          1,
          1,
          1,
          1,
          1,
          1,
          1,
          1,
          1,
          1,
          1,
          1,
          1,
          1,
          1,
          1,
          1,
          1,
          1,
          1,
          1,
          1,
          2,
          2,
          2,
          2,
          2,
          2,
          2,
          2,
          2,
          2,
          2,
          2,
          2,
          2,
          2,
          2,
          2,
          2,
          2,
          2,
          2,
          2,
          2,
          2,
          2,
          2,
          2,
          2,
          2,
          2,
          2,
          2,
          2,
          2,
          2,
          2,
          2,
          2,
          2,
          2,
          3,
          3,
          3,
          3,
          3,
          3,
          3,
          3,
          3,
          3,
          3,
          3,
          3,
          3,
          3,
          3,
          3,
          3,
          4,
          4,
          4,
          4,
          4,
          4,
          4,
          4,
          4,
          4,
          4,
          4,
          4,
          4,
          4,
          4,
          4,
          4,
          4,
          4,
          5,
          5,
          5,
          5,
          6,
          6,
          6,
          6,
          6,
          6,
          6,
          6,
          6,
          6,
          6,
          6,
          7,
          7,
          7,
          7,
          7,
          7,
          7,
          7,
          7,
          7,
          7,
          7,
          7,
          7,
          8,
          8,
          8,
          8,
          8,
          8,
          8,
          8,
          8,
          8,
          8,
          8,
          8,
          8,
          8,
          8,
          8,
          8,
          9,
          9,
          9,
          9,
          9,
          9,
          9,
          9,
          9,
          9,
          10,
          10,
          10,
          10,
          10,
          10,
          10,
          10,
          10,
          10,
          11,
          11,
          11,
          11,
          11,
          11,
          11,
          11,
          12,
          12,
          12,
          12,
          12,
          12,
          13,
          13,
          13,
          13,
          14,
          15,
          15,
          16,
          16,
          16,
          16,
          16,
          16,
          16,
          17,
          17,
          18,
          18,
          18,
          18,
          18,
          19,
          19,
          20,
          20,
          20,
          20,
          21,
          21,
          21,
          21,
          21,
          22,
          22,
          23,
          23,
          23,
          23,
          23,
          23,
          23,
          24,
          24,
          24,
          24,
          26,
          26,
          26,
          26,
          26,
          27,
          27,
          27,
          28,
          28,
          28,
          28,
          29,
          29,
          29,
          30,
          30,
          30,
          30,
          31,
          32,
          32,
          32,
          33,
          34,
          35,
          36,
          36,
          37,
          37,
          37,
          38,
          38,
          38,
          38,
          40,
          40,
          41,
          41,
          42,
          42,
          42,
          43,
          43,
          43,
          43,
          44,
          45,
          45,
          45,
          45,
          45,
          46,
          49,
          51,
          52,
          52,
          54,
          58,
          59,
          60,
          63,
          66,
          68,
          68,
          70,
          80,
          80,
          92,
          118
         ],
         "xaxis": "x",
         "y": [
          9.528067994572773,
          9.528067994572773,
          9.528067994572773,
          9.528067994572773,
          9.528067994572773,
          9.528067994572773,
          9.528067994572773,
          9.528067994572773,
          9.528067994572773,
          9.528067994572773,
          9.528067994572773,
          9.528067994572773,
          9.528067994572773,
          9.528067994572773,
          9.528067994572773,
          9.528067994572773,
          9.528067994572773,
          9.528067994572773,
          9.528067994572773,
          9.528067994572773,
          9.528067994572773,
          9.528067994572773,
          9.528067994572773,
          9.528067994572773,
          9.528067994572773,
          9.528067994572773,
          9.528067994572773,
          9.528067994572773,
          9.528067994572773,
          9.528067994572773,
          9.528067994572773,
          9.528067994572773,
          9.528067994572773,
          9.528067994572773,
          9.528067994572773,
          9.528067994572773,
          9.528067994572773,
          9.528067994572773,
          9.528067994572773,
          9.528067994572773,
          9.528067994572773,
          9.528067994572773,
          9.528067994572773,
          9.528067994572773,
          9.528067994572773,
          9.528067994572773,
          9.528067994572773,
          9.528067994572773,
          9.528067994572773,
          9.528067994572773,
          9.528067994572773,
          9.528067994572773,
          9.528067994572773,
          9.528067994572773,
          9.528067994572773,
          9.528067994572773,
          9.528067994572773,
          9.528067994572773,
          9.528067994572773,
          9.528067994572773,
          9.528067994572773,
          9.528067994572773,
          9.528067994572773,
          9.528067994572773,
          9.528067994572773,
          9.528067994572773,
          9.528067994572773,
          9.528067994572773,
          9.528067994572773,
          9.528067994572773,
          9.528067994572773,
          9.528067994572773,
          9.528067994572773,
          9.528067994572773,
          9.528067994572773,
          9.528067994572773,
          9.528067994572773,
          9.528067994572773,
          9.528067994572773,
          9.528067994572773,
          9.528067994572773,
          9.528067994572773,
          9.528067994572773,
          9.528067994572773,
          9.528067994572773,
          9.528067994572773,
          9.528067994572773,
          9.528067994572773,
          9.528067994572773,
          9.528067994572773,
          9.528067994572773,
          9.528067994572773,
          9.528067994572773,
          9.528067994572773,
          9.528067994572773,
          9.528067994572773,
          9.528067994572773,
          9.528067994572773,
          9.528067994572773,
          9.528067994572773,
          9.528067994572773,
          9.528067994572773,
          9.528067994572773,
          9.528067994572773,
          9.528067994572773,
          9.528067994572773,
          9.528067994572773,
          9.528067994572773,
          9.528067994572773,
          9.528067994572773,
          9.528067994572773,
          9.528067994572773,
          9.528067994572773,
          9.528067994572773,
          9.528067994572773,
          9.528067994572773,
          9.528067994572773,
          9.528067994572773,
          9.528067994572773,
          9.528067994572773,
          9.528067994572773,
          9.528067994572773,
          9.528067994572773,
          9.528067994572773,
          9.528067994572773,
          9.528067994572773,
          9.528067994572773,
          9.528067994572773,
          9.528067994572773,
          9.528067994572773,
          9.528067994572773,
          9.528067994572773,
          9.528067994572773,
          9.528067994572773,
          9.528067994572773,
          9.528067994572773,
          9.528067994572773,
          9.528067994572773,
          9.528067994572773,
          9.528067994572773,
          9.528067994572773,
          9.528067994572773,
          9.528067994572773,
          9.528067994572773,
          9.528067994572773,
          9.528067994572773,
          9.528067994572773,
          9.528067994572773,
          9.528067994572773,
          9.528067994572773,
          9.528067994572773,
          9.528067994572773,
          9.528067994572773,
          9.528067994572773,
          9.528067994572773,
          9.528067994572773,
          9.528067994572773,
          9.528067994572773,
          9.528067994572773,
          9.528067994572773,
          11.148408687100385,
          11.148408687100385,
          11.148408687100385,
          11.148408687100385,
          11.148408687100385,
          11.148408687100385,
          11.148408687100385,
          11.148408687100385,
          11.148408687100385,
          11.148408687100385,
          11.148408687100385,
          11.148408687100385,
          11.148408687100385,
          11.148408687100385,
          11.148408687100385,
          11.148408687100385,
          11.148408687100385,
          11.148408687100385,
          11.148408687100385,
          11.148408687100385,
          11.148408687100385,
          11.148408687100385,
          11.148408687100385,
          11.148408687100385,
          11.148408687100385,
          11.148408687100385,
          11.148408687100385,
          11.148408687100385,
          11.148408687100385,
          11.148408687100385,
          11.148408687100385,
          11.148408687100385,
          11.148408687100385,
          11.148408687100385,
          11.148408687100385,
          11.148408687100385,
          11.148408687100385,
          11.148408687100385,
          11.148408687100385,
          11.148408687100385,
          11.148408687100385,
          11.148408687100385,
          11.148408687100385,
          11.148408687100385,
          11.148408687100385,
          11.148408687100385,
          11.148408687100385,
          11.148408687100385,
          11.148408687100385,
          11.148408687100385,
          11.148408687100385,
          11.148408687100385,
          11.148408687100385,
          11.148408687100385,
          11.148408687100385,
          11.148408687100385,
          11.148408687100385,
          11.148408687100385,
          12.768749379627998,
          12.768749379627998,
          12.768749379627998,
          12.768749379627998,
          12.768749379627998,
          12.768749379627998,
          12.768749379627998,
          12.768749379627998,
          12.768749379627998,
          12.768749379627998,
          12.768749379627998,
          12.768749379627998,
          12.768749379627998,
          12.768749379627998,
          12.768749379627998,
          12.768749379627998,
          12.768749379627998,
          12.768749379627998,
          12.768749379627998,
          12.768749379627998,
          12.768749379627998,
          12.768749379627998,
          12.768749379627998,
          12.768749379627998,
          12.768749379627998,
          12.768749379627998,
          12.768749379627998,
          12.768749379627998,
          12.768749379627998,
          12.768749379627998,
          12.768749379627998,
          12.768749379627998,
          12.768749379627998,
          12.768749379627998,
          12.768749379627998,
          12.768749379627998,
          12.768749379627998,
          12.768749379627998,
          12.768749379627998,
          12.768749379627998,
          14.38909007215561,
          14.38909007215561,
          14.38909007215561,
          14.38909007215561,
          14.38909007215561,
          14.38909007215561,
          14.38909007215561,
          14.38909007215561,
          14.38909007215561,
          14.38909007215561,
          14.38909007215561,
          14.38909007215561,
          14.38909007215561,
          14.38909007215561,
          14.38909007215561,
          14.38909007215561,
          14.38909007215561,
          14.38909007215561,
          16.009430764683223,
          16.009430764683223,
          16.009430764683223,
          16.009430764683223,
          16.009430764683223,
          16.009430764683223,
          16.009430764683223,
          16.009430764683223,
          16.009430764683223,
          16.009430764683223,
          16.009430764683223,
          16.009430764683223,
          16.009430764683223,
          16.009430764683223,
          16.009430764683223,
          16.009430764683223,
          16.009430764683223,
          16.009430764683223,
          16.009430764683223,
          16.009430764683223,
          17.629771457210836,
          17.629771457210836,
          17.629771457210836,
          17.629771457210836,
          19.25011214973845,
          19.25011214973845,
          19.25011214973845,
          19.25011214973845,
          19.25011214973845,
          19.25011214973845,
          19.25011214973845,
          19.25011214973845,
          19.25011214973845,
          19.25011214973845,
          19.25011214973845,
          19.25011214973845,
          20.87045284226606,
          20.87045284226606,
          20.87045284226606,
          20.87045284226606,
          20.87045284226606,
          20.87045284226606,
          20.87045284226606,
          20.87045284226606,
          20.87045284226606,
          20.87045284226606,
          20.87045284226606,
          20.87045284226606,
          20.87045284226606,
          20.87045284226606,
          22.490793534793674,
          22.490793534793674,
          22.490793534793674,
          22.490793534793674,
          22.490793534793674,
          22.490793534793674,
          22.490793534793674,
          22.490793534793674,
          22.490793534793674,
          22.490793534793674,
          22.490793534793674,
          22.490793534793674,
          22.490793534793674,
          22.490793534793674,
          22.490793534793674,
          22.490793534793674,
          22.490793534793674,
          22.490793534793674,
          24.111134227321287,
          24.111134227321287,
          24.111134227321287,
          24.111134227321287,
          24.111134227321287,
          24.111134227321287,
          24.111134227321287,
          24.111134227321287,
          24.111134227321287,
          24.111134227321287,
          25.731474919848896,
          25.731474919848896,
          25.731474919848896,
          25.731474919848896,
          25.731474919848896,
          25.731474919848896,
          25.731474919848896,
          25.731474919848896,
          25.731474919848896,
          25.731474919848896,
          27.35181561237651,
          27.35181561237651,
          27.35181561237651,
          27.35181561237651,
          27.35181561237651,
          27.35181561237651,
          27.35181561237651,
          27.35181561237651,
          28.97215630490412,
          28.97215630490412,
          28.97215630490412,
          28.97215630490412,
          28.97215630490412,
          28.97215630490412,
          30.592496997431734,
          30.592496997431734,
          30.592496997431734,
          30.592496997431734,
          32.21283768995934,
          33.83317838248696,
          33.83317838248696,
          35.45351907501457,
          35.45351907501457,
          35.45351907501457,
          35.45351907501457,
          35.45351907501457,
          35.45351907501457,
          35.45351907501457,
          37.07385976754219,
          37.07385976754219,
          38.694200460069794,
          38.694200460069794,
          38.694200460069794,
          38.694200460069794,
          38.694200460069794,
          40.314541152597414,
          40.314541152597414,
          41.93488184512502,
          41.93488184512502,
          41.93488184512502,
          41.93488184512502,
          43.55522253765263,
          43.55522253765263,
          43.55522253765263,
          43.55522253765263,
          43.55522253765263,
          45.175563230180245,
          45.175563230180245,
          46.79590392270786,
          46.79590392270786,
          46.79590392270786,
          46.79590392270786,
          46.79590392270786,
          46.79590392270786,
          46.79590392270786,
          48.41624461523547,
          48.41624461523547,
          48.41624461523547,
          48.41624461523547,
          51.656926000290696,
          51.656926000290696,
          51.656926000290696,
          51.656926000290696,
          51.656926000290696,
          53.27726669281831,
          53.27726669281831,
          53.27726669281831,
          54.89760738534592,
          54.89760738534592,
          54.89760738534592,
          54.89760738534592,
          56.517948077873534,
          56.517948077873534,
          56.517948077873534,
          58.13828877040115,
          58.13828877040115,
          58.13828877040115,
          58.13828877040115,
          59.75862946292876,
          61.37897015545637,
          61.37897015545637,
          61.37897015545637,
          62.999310847983985,
          64.6196515405116,
          66.2399922330392,
          67.86033292556682,
          67.86033292556682,
          69.48067361809444,
          69.48067361809444,
          69.48067361809444,
          71.10101431062205,
          71.10101431062205,
          71.10101431062205,
          71.10101431062205,
          74.34169569567726,
          74.34169569567726,
          75.9620363882049,
          75.9620363882049,
          77.5823770807325,
          77.5823770807325,
          77.5823770807325,
          79.2027177732601,
          79.2027177732601,
          79.2027177732601,
          79.2027177732601,
          80.82305846578771,
          82.44339915831534,
          82.44339915831534,
          82.44339915831534,
          82.44339915831534,
          82.44339915831534,
          84.06373985084295,
          88.9247619284258,
          92.165443313481,
          93.78578400600861,
          93.78578400600861,
          97.02646539106385,
          103.5078281611743,
          105.12816885370191,
          106.74850954622951,
          111.60953162381236,
          116.4705537013952,
          119.71123508645042,
          119.71123508645042,
          122.95191647150565,
          139.15532339678177,
          139.15532339678177,
          158.59941170711312,
          200.72826971283106
         ],
         "yaxis": "y"
        }
       ],
       "layout": {
        "coloraxis": {
         "colorbar": {
          "title": {
           "text": "onbase_plus_slugging"
          }
         },
         "colorscale": [
          [
           0,
           "rgb(0, 155, 158)"
          ],
          [
           0.16666666666666666,
           "rgb(66, 183, 185)"
          ],
          [
           0.3333333333333333,
           "rgb(167, 211, 212)"
          ],
          [
           0.5,
           "rgb(241, 241, 241)"
          ],
          [
           0.6666666666666666,
           "rgb(228, 193, 217)"
          ],
          [
           0.8333333333333334,
           "rgb(214, 145, 193)"
          ],
          [
           1,
           "rgb(199, 93, 171)"
          ]
         ]
        },
        "height": 800,
        "legend": {
         "tracegroupgap": 0
        },
        "margin": {
         "t": 60
        },
        "template": {
         "data": {
          "bar": [
           {
            "error_x": {
             "color": "#2a3f5f"
            },
            "error_y": {
             "color": "#2a3f5f"
            },
            "marker": {
             "line": {
              "color": "#E5ECF6",
              "width": 0.5
             },
             "pattern": {
              "fillmode": "overlay",
              "size": 10,
              "solidity": 0.2
             }
            },
            "type": "bar"
           }
          ],
          "barpolar": [
           {
            "marker": {
             "line": {
              "color": "#E5ECF6",
              "width": 0.5
             },
             "pattern": {
              "fillmode": "overlay",
              "size": 10,
              "solidity": 0.2
             }
            },
            "type": "barpolar"
           }
          ],
          "carpet": [
           {
            "aaxis": {
             "endlinecolor": "#2a3f5f",
             "gridcolor": "white",
             "linecolor": "white",
             "minorgridcolor": "white",
             "startlinecolor": "#2a3f5f"
            },
            "baxis": {
             "endlinecolor": "#2a3f5f",
             "gridcolor": "white",
             "linecolor": "white",
             "minorgridcolor": "white",
             "startlinecolor": "#2a3f5f"
            },
            "type": "carpet"
           }
          ],
          "choropleth": [
           {
            "colorbar": {
             "outlinewidth": 0,
             "ticks": ""
            },
            "type": "choropleth"
           }
          ],
          "contour": [
           {
            "colorbar": {
             "outlinewidth": 0,
             "ticks": ""
            },
            "colorscale": [
             [
              0,
              "#0d0887"
             ],
             [
              0.1111111111111111,
              "#46039f"
             ],
             [
              0.2222222222222222,
              "#7201a8"
             ],
             [
              0.3333333333333333,
              "#9c179e"
             ],
             [
              0.4444444444444444,
              "#bd3786"
             ],
             [
              0.5555555555555556,
              "#d8576b"
             ],
             [
              0.6666666666666666,
              "#ed7953"
             ],
             [
              0.7777777777777778,
              "#fb9f3a"
             ],
             [
              0.8888888888888888,
              "#fdca26"
             ],
             [
              1,
              "#f0f921"
             ]
            ],
            "type": "contour"
           }
          ],
          "contourcarpet": [
           {
            "colorbar": {
             "outlinewidth": 0,
             "ticks": ""
            },
            "type": "contourcarpet"
           }
          ],
          "heatmap": [
           {
            "colorbar": {
             "outlinewidth": 0,
             "ticks": ""
            },
            "colorscale": [
             [
              0,
              "#0d0887"
             ],
             [
              0.1111111111111111,
              "#46039f"
             ],
             [
              0.2222222222222222,
              "#7201a8"
             ],
             [
              0.3333333333333333,
              "#9c179e"
             ],
             [
              0.4444444444444444,
              "#bd3786"
             ],
             [
              0.5555555555555556,
              "#d8576b"
             ],
             [
              0.6666666666666666,
              "#ed7953"
             ],
             [
              0.7777777777777778,
              "#fb9f3a"
             ],
             [
              0.8888888888888888,
              "#fdca26"
             ],
             [
              1,
              "#f0f921"
             ]
            ],
            "type": "heatmap"
           }
          ],
          "heatmapgl": [
           {
            "colorbar": {
             "outlinewidth": 0,
             "ticks": ""
            },
            "colorscale": [
             [
              0,
              "#0d0887"
             ],
             [
              0.1111111111111111,
              "#46039f"
             ],
             [
              0.2222222222222222,
              "#7201a8"
             ],
             [
              0.3333333333333333,
              "#9c179e"
             ],
             [
              0.4444444444444444,
              "#bd3786"
             ],
             [
              0.5555555555555556,
              "#d8576b"
             ],
             [
              0.6666666666666666,
              "#ed7953"
             ],
             [
              0.7777777777777778,
              "#fb9f3a"
             ],
             [
              0.8888888888888888,
              "#fdca26"
             ],
             [
              1,
              "#f0f921"
             ]
            ],
            "type": "heatmapgl"
           }
          ],
          "histogram": [
           {
            "marker": {
             "pattern": {
              "fillmode": "overlay",
              "size": 10,
              "solidity": 0.2
             }
            },
            "type": "histogram"
           }
          ],
          "histogram2d": [
           {
            "colorbar": {
             "outlinewidth": 0,
             "ticks": ""
            },
            "colorscale": [
             [
              0,
              "#0d0887"
             ],
             [
              0.1111111111111111,
              "#46039f"
             ],
             [
              0.2222222222222222,
              "#7201a8"
             ],
             [
              0.3333333333333333,
              "#9c179e"
             ],
             [
              0.4444444444444444,
              "#bd3786"
             ],
             [
              0.5555555555555556,
              "#d8576b"
             ],
             [
              0.6666666666666666,
              "#ed7953"
             ],
             [
              0.7777777777777778,
              "#fb9f3a"
             ],
             [
              0.8888888888888888,
              "#fdca26"
             ],
             [
              1,
              "#f0f921"
             ]
            ],
            "type": "histogram2d"
           }
          ],
          "histogram2dcontour": [
           {
            "colorbar": {
             "outlinewidth": 0,
             "ticks": ""
            },
            "colorscale": [
             [
              0,
              "#0d0887"
             ],
             [
              0.1111111111111111,
              "#46039f"
             ],
             [
              0.2222222222222222,
              "#7201a8"
             ],
             [
              0.3333333333333333,
              "#9c179e"
             ],
             [
              0.4444444444444444,
              "#bd3786"
             ],
             [
              0.5555555555555556,
              "#d8576b"
             ],
             [
              0.6666666666666666,
              "#ed7953"
             ],
             [
              0.7777777777777778,
              "#fb9f3a"
             ],
             [
              0.8888888888888888,
              "#fdca26"
             ],
             [
              1,
              "#f0f921"
             ]
            ],
            "type": "histogram2dcontour"
           }
          ],
          "mesh3d": [
           {
            "colorbar": {
             "outlinewidth": 0,
             "ticks": ""
            },
            "type": "mesh3d"
           }
          ],
          "parcoords": [
           {
            "line": {
             "colorbar": {
              "outlinewidth": 0,
              "ticks": ""
             }
            },
            "type": "parcoords"
           }
          ],
          "pie": [
           {
            "automargin": true,
            "type": "pie"
           }
          ],
          "scatter": [
           {
            "fillpattern": {
             "fillmode": "overlay",
             "size": 10,
             "solidity": 0.2
            },
            "type": "scatter"
           }
          ],
          "scatter3d": [
           {
            "line": {
             "colorbar": {
              "outlinewidth": 0,
              "ticks": ""
             }
            },
            "marker": {
             "colorbar": {
              "outlinewidth": 0,
              "ticks": ""
             }
            },
            "type": "scatter3d"
           }
          ],
          "scattercarpet": [
           {
            "marker": {
             "colorbar": {
              "outlinewidth": 0,
              "ticks": ""
             }
            },
            "type": "scattercarpet"
           }
          ],
          "scattergeo": [
           {
            "marker": {
             "colorbar": {
              "outlinewidth": 0,
              "ticks": ""
             }
            },
            "type": "scattergeo"
           }
          ],
          "scattergl": [
           {
            "marker": {
             "colorbar": {
              "outlinewidth": 0,
              "ticks": ""
             }
            },
            "type": "scattergl"
           }
          ],
          "scattermapbox": [
           {
            "marker": {
             "colorbar": {
              "outlinewidth": 0,
              "ticks": ""
             }
            },
            "type": "scattermapbox"
           }
          ],
          "scatterpolar": [
           {
            "marker": {
             "colorbar": {
              "outlinewidth": 0,
              "ticks": ""
             }
            },
            "type": "scatterpolar"
           }
          ],
          "scatterpolargl": [
           {
            "marker": {
             "colorbar": {
              "outlinewidth": 0,
              "ticks": ""
             }
            },
            "type": "scatterpolargl"
           }
          ],
          "scatterternary": [
           {
            "marker": {
             "colorbar": {
              "outlinewidth": 0,
              "ticks": ""
             }
            },
            "type": "scatterternary"
           }
          ],
          "surface": [
           {
            "colorbar": {
             "outlinewidth": 0,
             "ticks": ""
            },
            "colorscale": [
             [
              0,
              "#0d0887"
             ],
             [
              0.1111111111111111,
              "#46039f"
             ],
             [
              0.2222222222222222,
              "#7201a8"
             ],
             [
              0.3333333333333333,
              "#9c179e"
             ],
             [
              0.4444444444444444,
              "#bd3786"
             ],
             [
              0.5555555555555556,
              "#d8576b"
             ],
             [
              0.6666666666666666,
              "#ed7953"
             ],
             [
              0.7777777777777778,
              "#fb9f3a"
             ],
             [
              0.8888888888888888,
              "#fdca26"
             ],
             [
              1,
              "#f0f921"
             ]
            ],
            "type": "surface"
           }
          ],
          "table": [
           {
            "cells": {
             "fill": {
              "color": "#EBF0F8"
             },
             "line": {
              "color": "white"
             }
            },
            "header": {
             "fill": {
              "color": "#C8D4E3"
             },
             "line": {
              "color": "white"
             }
            },
            "type": "table"
           }
          ]
         },
         "layout": {
          "annotationdefaults": {
           "arrowcolor": "#2a3f5f",
           "arrowhead": 0,
           "arrowwidth": 1
          },
          "autotypenumbers": "strict",
          "coloraxis": {
           "colorbar": {
            "outlinewidth": 0,
            "ticks": ""
           }
          },
          "colorscale": {
           "diverging": [
            [
             0,
             "#8e0152"
            ],
            [
             0.1,
             "#c51b7d"
            ],
            [
             0.2,
             "#de77ae"
            ],
            [
             0.3,
             "#f1b6da"
            ],
            [
             0.4,
             "#fde0ef"
            ],
            [
             0.5,
             "#f7f7f7"
            ],
            [
             0.6,
             "#e6f5d0"
            ],
            [
             0.7,
             "#b8e186"
            ],
            [
             0.8,
             "#7fbc41"
            ],
            [
             0.9,
             "#4d9221"
            ],
            [
             1,
             "#276419"
            ]
           ],
           "sequential": [
            [
             0,
             "#0d0887"
            ],
            [
             0.1111111111111111,
             "#46039f"
            ],
            [
             0.2222222222222222,
             "#7201a8"
            ],
            [
             0.3333333333333333,
             "#9c179e"
            ],
            [
             0.4444444444444444,
             "#bd3786"
            ],
            [
             0.5555555555555556,
             "#d8576b"
            ],
            [
             0.6666666666666666,
             "#ed7953"
            ],
            [
             0.7777777777777778,
             "#fb9f3a"
            ],
            [
             0.8888888888888888,
             "#fdca26"
            ],
            [
             1,
             "#f0f921"
            ]
           ],
           "sequentialminus": [
            [
             0,
             "#0d0887"
            ],
            [
             0.1111111111111111,
             "#46039f"
            ],
            [
             0.2222222222222222,
             "#7201a8"
            ],
            [
             0.3333333333333333,
             "#9c179e"
            ],
            [
             0.4444444444444444,
             "#bd3786"
            ],
            [
             0.5555555555555556,
             "#d8576b"
            ],
            [
             0.6666666666666666,
             "#ed7953"
            ],
            [
             0.7777777777777778,
             "#fb9f3a"
            ],
            [
             0.8888888888888888,
             "#fdca26"
            ],
            [
             1,
             "#f0f921"
            ]
           ]
          },
          "colorway": [
           "#636efa",
           "#EF553B",
           "#00cc96",
           "#ab63fa",
           "#FFA15A",
           "#19d3f3",
           "#FF6692",
           "#B6E880",
           "#FF97FF",
           "#FECB52"
          ],
          "font": {
           "color": "#2a3f5f"
          },
          "geo": {
           "bgcolor": "white",
           "lakecolor": "white",
           "landcolor": "#E5ECF6",
           "showlakes": true,
           "showland": true,
           "subunitcolor": "white"
          },
          "hoverlabel": {
           "align": "left"
          },
          "hovermode": "closest",
          "mapbox": {
           "style": "light"
          },
          "paper_bgcolor": "white",
          "plot_bgcolor": "#E5ECF6",
          "polar": {
           "angularaxis": {
            "gridcolor": "white",
            "linecolor": "white",
            "ticks": ""
           },
           "bgcolor": "#E5ECF6",
           "radialaxis": {
            "gridcolor": "white",
            "linecolor": "white",
            "ticks": ""
           }
          },
          "scene": {
           "xaxis": {
            "backgroundcolor": "#E5ECF6",
            "gridcolor": "white",
            "gridwidth": 2,
            "linecolor": "white",
            "showbackground": true,
            "ticks": "",
            "zerolinecolor": "white"
           },
           "yaxis": {
            "backgroundcolor": "#E5ECF6",
            "gridcolor": "white",
            "gridwidth": 2,
            "linecolor": "white",
            "showbackground": true,
            "ticks": "",
            "zerolinecolor": "white"
           },
           "zaxis": {
            "backgroundcolor": "#E5ECF6",
            "gridcolor": "white",
            "gridwidth": 2,
            "linecolor": "white",
            "showbackground": true,
            "ticks": "",
            "zerolinecolor": "white"
           }
          },
          "shapedefaults": {
           "line": {
            "color": "#2a3f5f"
           }
          },
          "ternary": {
           "aaxis": {
            "gridcolor": "white",
            "linecolor": "white",
            "ticks": ""
           },
           "baxis": {
            "gridcolor": "white",
            "linecolor": "white",
            "ticks": ""
           },
           "bgcolor": "#E5ECF6",
           "caxis": {
            "gridcolor": "white",
            "linecolor": "white",
            "ticks": ""
           }
          },
          "title": {
           "x": 0.05
          },
          "xaxis": {
           "automargin": true,
           "gridcolor": "white",
           "linecolor": "white",
           "ticks": "",
           "title": {
            "standoff": 15
           },
           "zerolinecolor": "white",
           "zerolinewidth": 2
          },
          "yaxis": {
           "automargin": true,
           "gridcolor": "white",
           "linecolor": "white",
           "ticks": "",
           "title": {
            "standoff": 15
           },
           "zerolinecolor": "white",
           "zerolinewidth": 2
          }
         }
        },
        "width": 1500,
        "xaxis": {
         "anchor": "y",
         "domain": [
          0,
          1
         ],
         "nticks": 20,
         "title": {
          "text": "BB"
         }
        },
        "yaxis": {
         "anchor": "x",
         "domain": [
          0,
          1
         ],
         "nticks": 20,
         "title": {
          "text": "SO"
         }
        }
       }
      }
     },
     "metadata": {},
     "output_type": "display_data"
    }
   ],
   "source": [
    "plt = px.scatter(\n",
    "    df, x=\"BB\", y=\"SO\", \n",
    "    trendline='ols',\n",
    "    trendline_color_override=\"purple\",\n",
    "    color=\"onbase_plus_slugging\",\n",
    "    hover_name=\"player\",\n",
    "    hover_data=[\"team\",\"PA\", \"HR\", \"batting_avg\"],\n",
    "    color_continuous_scale=px.colors.diverging.Tropic,\n",
    "    width=1500, height=800,\n",
    ")\n",
    "\n",
    "plt.update_traces(marker_line_width=2, marker_size=10)\n",
    "plt.update_yaxes(nticks=20)\n",
    "plt.update_xaxes(nticks=20)\n"
   ]
  },
  {
   "cell_type": "code",
   "execution_count": null,
   "metadata": {},
   "outputs": [],
   "source": []
  }
 ],
 "metadata": {
  "interpreter": {
   "hash": "ed17212fccccbb12e83c24386c5ff03117b85ebaf90e831a0bd1be0b92eeb92c"
  },
  "kernelspec": {
   "display_name": "Python 3.9.7 ('.venv': venv)",
   "language": "python",
   "name": "python3"
  },
  "language_info": {
   "codemirror_mode": {
    "name": "ipython",
    "version": 3
   },
   "file_extension": ".py",
   "mimetype": "text/x-python",
   "name": "python",
   "nbconvert_exporter": "python",
   "pygments_lexer": "ipython3",
   "version": "3.9.7"
  },
  "orig_nbformat": 4
 },
 "nbformat": 4,
 "nbformat_minor": 2
}
