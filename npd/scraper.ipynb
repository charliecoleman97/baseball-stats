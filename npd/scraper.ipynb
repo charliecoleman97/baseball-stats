{
 "cells": [
  {
   "cell_type": "markdown",
   "metadata": {},
   "source": [
    "## Starting with scraping all the player stats for the 2022 Orix Buffalos"
   ]
  },
  {
   "cell_type": "code",
   "execution_count": 170,
   "metadata": {},
   "outputs": [],
   "source": [
    "from bs4 import BeautifulSoup\n",
    "from requests_html import HTMLSession\n",
    "import pandas as pd\n",
    "import re "
   ]
  },
  {
   "cell_type": "code",
   "execution_count": 168,
   "metadata": {},
   "outputs": [],
   "source": [
    "def get_stats_table(url: str, id: str):  \n",
    "    \"\"\"\n",
    "    Scrapes the pitching and batting table depending on the ID provided\n",
    "    Pitching table is in a comment for some reason so have to do some \n",
    "    cleaning before converting to DF\n",
    "    \"\"\"\n",
    "    \n",
    "    s = HTMLSession()\n",
    "    page = s.get(url)\n",
    "    stats_div = BeautifulSoup(page.content, \"html.parser\")\n",
    "\n",
    "    if id == \"team_pitching\":\n",
    "        s = str(stats_div.find(\"div\", id=\"all_team_pitching\"))\n",
    "        start_len, end_len = s.find('<table'), s.rfind('</table>')\n",
    "        cleaned_page = s[start_len:end_len + len('</table>')]\n",
    "        stats_div = BeautifulSoup(cleaned_page, \"html.parser\")  \n",
    "        \n",
    "    stats_table = stats_div.find(\"table\", id=id)\n",
    "\n",
    "    stats_df = pd.DataFrame()\n",
    "    for row in stats_table.tbody.find_all(\"tr\"):\n",
    "        columns = row.find_all(\"td\")\n",
    "        \n",
    "        if(columns != []):\n",
    "            stats_dict = {}\n",
    "            for i in range(0, len(columns)):\n",
    "                stats_dict[columns[i][\"data-stat\"]] = columns[i].text.strip()\n",
    "            stats_df = stats_df.append(stats_dict, ignore_index=True)\n",
    "\n",
    "    return stats_df"
   ]
  },
  {
   "cell_type": "code",
   "execution_count": null,
   "metadata": {},
   "outputs": [],
   "source": [
    "url = \"https://www.baseball-reference.com/register/team.cgi?id=d5c0c304\"\n",
    "\n",
    "batting_stats = get_stats_table(url, \"team_batting\")\n",
    "pitching_stats = get_stats_table(url, \"team_pitching\")\n"
   ]
  }
 ],
 "metadata": {
  "interpreter": {
   "hash": "ed17212fccccbb12e83c24386c5ff03117b85ebaf90e831a0bd1be0b92eeb92c"
  },
  "kernelspec": {
   "display_name": "Python 3.9.7 ('.venv': venv)",
   "language": "python",
   "name": "python3"
  },
  "language_info": {
   "codemirror_mode": {
    "name": "ipython",
    "version": 3
   },
   "file_extension": ".py",
   "mimetype": "text/x-python",
   "name": "python",
   "nbconvert_exporter": "python",
   "pygments_lexer": "ipython3",
   "version": "3.9.7"
  },
  "orig_nbformat": 4
 },
 "nbformat": 4,
 "nbformat_minor": 2
}
